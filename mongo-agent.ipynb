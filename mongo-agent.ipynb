{
 "cells": [
  {
   "cell_type": "code",
   "execution_count": 13,
   "metadata": {},
   "outputs": [
    {
     "data": {
      "text/plain": [
       "True"
      ]
     },
     "execution_count": 223,
     "metadata": {},
     "output_type": "execute_result"
    }
   ],
   "source": [
    "import pymongo\n",
    "from pymongo import MongoClient\n",
    "from dotenv import load_dotenv\n",
    "import os\n",
    "\n",
    "load_dotenv()"
   ]
  },
  {
   "cell_type": "code",
   "execution_count": 14,
   "metadata": {},
   "outputs": [],
   "source": [
    "connection_string = os.getenv(\"DB_CONNECTION_SECRET\")"
   ]
  },
  {
   "cell_type": "code",
   "execution_count": 15,
   "metadata": {},
   "outputs": [],
   "source": [
    "client = MongoClient(\n",
    "        connection_string,\n",
    "        connectTimeoutMS=5000,  # 5 seconds\n",
    "        serverSelectionTimeoutMS=5000  # 5 seconds\n",
    "    )"
   ]
  },
  {
   "cell_type": "code",
   "execution_count": 16,
   "metadata": {},
   "outputs": [],
   "source": [
    "db = client.get_database(\"devTinder\")"
   ]
  },
  {
   "cell_type": "code",
   "execution_count": 275,
   "metadata": {},
   "outputs": [
    {
     "name": "stdout",
     "output_type": "stream",
     "text": [
      "Available tools:\n",
      "mongodb_query\n",
      "mongodb_schema\n",
      "mongodb_list_collections\n",
      "mongodb_query_checker\n"
     ]
    }
   ],
   "source": [
    "from langchain_mongodb.agent_toolkit import MongoDBDatabase, MongoDBDatabaseToolkit\n",
    "from langchain_groq import ChatGroq\n",
    "\n",
    "# Set up the MongoDB database\n",
    "db = MongoDBDatabase.from_connection_string(\n",
    "    os.getenv(\"DB_CONNECTION_SECRET\"),\n",
    "    database=\"devTinder\"\n",
    ")\n",
    "\n",
    "llm = ChatGroq(model=\"llama3-8b-8192\", api_key=os.getenv(\"GROQ_API_KEY\"))\n",
    "\n",
    "# Create the toolkit with the database\n",
    "toolkit = MongoDBDatabaseToolkit(db=db, llm=llm)\n",
    "\n",
    "# Get the tools from the toolkit\n",
    "tools = toolkit.get_tools()\n",
    "\n",
    "print(\"Available tools:\")\n",
    "for tool in tools:\n",
    "    print(tool.name)"
   ]
  },
  {
   "cell_type": "code",
   "execution_count": 34,
   "metadata": {},
   "outputs": [
    {
     "data": {
      "text/plain": [
       "['chats', 'connectionrequests', 'payments', 'test_collection', 'users']"
      ]
     },
     "execution_count": 228,
     "metadata": {},
     "output_type": "execute_result"
    }
   ],
   "source": [
    "db.get_usable_collection_names()"
   ]
  },
  {
   "cell_type": "code",
   "execution_count": 35,
   "metadata": {},
   "outputs": [
    {
     "data": {
      "text/plain": [
       "AIMessage(content=\"I'm just a language model, I don't have emotions or feelings like humans do, but I'm functioning properly and ready to assist you with any questions or tasks you may have! It's great to chat with you. How can I help you today?\", additional_kwargs={}, response_metadata={'token_usage': {'completion_tokens': 53, 'prompt_tokens': 16, 'total_tokens': 69, 'completion_time': 0.044166667, 'prompt_time': 0.00246693, 'queue_time': 0.234590618, 'total_time': 0.046633597}, 'model_name': 'llama3-8b-8192', 'system_fingerprint': 'fp_dadc9d6142', 'finish_reason': 'stop', 'logprobs': None}, id='run-5a84df2d-7d2a-4199-b2c9-8ef58d97bee0-0', usage_metadata={'input_tokens': 16, 'output_tokens': 53, 'total_tokens': 69})"
      ]
     },
     "execution_count": 229,
     "metadata": {},
     "output_type": "execute_result"
    }
   ],
   "source": [
    "llm.invoke(\"Hello, how are you?\")"
   ]
  },
  {
   "cell_type": "code",
   "execution_count": 36,
   "metadata": {},
   "outputs": [],
   "source": [
    "for tool in tools:\n",
    "    # Check if the tool's name is \"mongodb_list_collections\"\n",
    "    if tool.name == \"mongodb_list_collections\":\n",
    "        list_collections_tool = tool\n",
    "        break"
   ]
  },
  {
   "cell_type": "code",
   "execution_count": 37,
   "metadata": {},
   "outputs": [],
   "source": [
    "for tool in tools:\n",
    "    # Check if the tool's name is \"mongodb_schema\"\n",
    "    if tool.name == \"mongodb_schema\":\n",
    "        # If found, assign it to get_schema_tool\n",
    "        get_schema_tool = tool\n",
    "        break "
   ]
  },
  {
   "cell_type": "code",
   "execution_count": 38,
   "metadata": {},
   "outputs": [
    {
     "data": {
      "text/plain": [
       "RunnableBinding(bound=ChatGroq(client=<groq.resources.chat.completions.Completions object at 0x1249fa650>, async_client=<groq.resources.chat.completions.AsyncCompletions object at 0x1257f0770>, model_name='llama3-8b-8192', model_kwargs={}, groq_api_key=SecretStr('**********')), kwargs={'tools': [{'type': 'function', 'function': {'name': 'mongodb_schema', 'description': 'Input to this tool is a comma-separated list of collections, output is the schema and sample rows for those collections. Be sure that the collectionss actually exist by calling mongodb_list_collections first! Example Input: collection1, collection2, collection3', 'parameters': {'properties': {'collection_names': {'description': \"A comma-separated list of the collection names for which to return the schema. Example input: 'collection1, collection2, collection3'\", 'type': 'string'}}, 'required': ['collection_names'], 'type': 'object'}}}]}, config={}, config_factories=[])"
      ]
     },
     "execution_count": 232,
     "metadata": {},
     "output_type": "execute_result"
    }
   ],
   "source": [
    "llm_to_get_schema=llm.bind_tools([get_schema_tool])\n",
    "llm_to_get_schema"
   ]
  },
  {
   "cell_type": "code",
   "execution_count": 100,
   "metadata": {},
   "outputs": [],
   "source": [
    "from langchain.tools import tool\n",
    "\n",
    "# The @tool Decorator: This marks the function as a LangChain tool, making it available for use by a language model agent. \n",
    "# Tools in LangChain are functions that agents can call to perform specific tasks.\n",
    "# Mentioning the prompt inside as in Mongodb (https://langchain-mongodb.readthedocs.io/en/latest/langchain_mongodb/agent_toolkit/langchain_mongodb.agent_toolkit.database.MongoDBDatabase.html#langchain_mongodb.agent_toolkit.database.MongoDBDatabase.run_no_throw) only uses aggregation queries.\n",
    "\n",
    "@tool\n",
    "def query_to_database(query: str) -> str:\n",
    "    \"\"\"\n",
    "        Execute a MongoDB **aggregation query string** against the database and return the result.\n",
    "        The query string MUST be in the MongoDB shell format: 'db.collectionName.aggregate([pipeline])'.\n",
    "        \n",
    "        DONT USE other aggregation queries like find, findOne, etc.\n",
    "        \n",
    "        Example query: \n",
    "        \n",
    "        **IMPORTANT TOOL USAGE RULES:**\n",
    "        1.  The `query_to_database` tool ONLY accepts MongoDB **aggregation query strings**.\n",
    "        2.  The query string MUST strictly follow the format: `'db.collectionName.aggregate([pipeline])'`.\n",
    "        3.  Use the correct collection name (e.g., `users`, `payments`).\n",
    "        4.  Use the correct field names based on the known schema (e.g., `firstName`, `lastName`, `emailId`, `createdAt`). Do NOT guess field names like `first_name`.\n",
    "        5.  Use `$match` within the pipeline for filtering documents (like a WHERE clause).\n",
    "        6.  Use `$project` to select specific fields.\n",
    "        7.  Use `$count` to count documents.\n",
    "        8.  Use `$limit` and `$sort` for those specific operations.\n",
    "        9.  Do NOT attempt to use other commands like `find`, `findOne`, `countDocuments` directly in the query string.\n",
    "\n",
    "        **QUERY EXAMPLES:**\n",
    "\n",
    "        **1. Show all documents in a collection (e.g., `users`):**\n",
    "        *User Request:* \"Show all users\", \"List all users\"\n",
    "        *Tool Query:* `'db.users.aggregate([ { \"$match\": {} } ])'`\n",
    "\n",
    "        **2. Show documents matching specific criteria (e.g., users with `firstName` \"Rohan\"):**\n",
    "        *User Request:* \"Find users named Rohan\", \"Get user Rohan's details\"\n",
    "        *Tool Query:* `'db.users.aggregate([ { \"$match\": { \"firstName\": \"Rohan\" } } ])'`\n",
    "\n",
    "        **3. Show documents matching multiple criteria (e.g., users with `firstName` \"Rohan\" AND `lastName` \"Gore\"):**\n",
    "        *User Request:* \"Find user Rohan Gore\"\n",
    "        *Tool Query:* `'db.users.aggregate([ { \"$match\": { \"firstName\": \"Rohan\", \"lastName\": \"Gore\" } } ])'`\n",
    "        *(Alternative using $and):* `'db.users.aggregate([ { \"$match\": { \"$and\": [ { \"firstName\": \"Rohan\" }, { \"lastName\": \"Gore\" } ] } } ])'`\n",
    "\n",
    "        **4. Show specific fields for matching documents (e.g., `firstName` and `emailId` for user \"Rohan\"):**\n",
    "        *User Request:* \"Show Rohan's first name and email\"\n",
    "        *Tool Query:* `'db.users.aggregate([ { \"$match\": { \"firstName\": \"Rohan\" } }, { \"$project\": { \"firstName\": 1, \"emailId\": 1, \"_id\": 0 } } ])'`\n",
    "\n",
    "        **5. Count documents matching criteria (e.g., count users named \"Rohan\"):**\n",
    "        *User Request:* \"How many users are named Rohan?\"\n",
    "        *Tool Query:* `'db.users.aggregate([ { \"$match\": { \"firstName\": \"Rohan\" } }, { \"$count\": \"matching_users_count\" } ])'`\n",
    "\n",
    "        **6. Limit the number of results (e.g., show the first 5 users):**\n",
    "        *User Request:* \"Show 5 users\"\n",
    "        *Tool Query:* `'db.users.aggregate([ { \"$match\": {} }, { \"$limit\": 5 } ])'`\n",
    "\n",
    "        **7. Sort results (e.g., show users sorted by `createdAt` descending):**\n",
    "        *User Request:* \"Show users sorted by creation date, newest first\"\n",
    "        *Tool Query:* `'db.users.aggregate([ { \"$match\": {} }, { \"$sort\": { \"createdAt\": -1 } } ])'`\n",
    "\n",
    "        **8. Combine operations (e.g., show `emailId` of the 5 newest users named \"Rohan\"):**\n",
    "        *User Request:* \"Show the email addresses of the 5 most recent users named Rohan\"\n",
    "        *Tool Query:* `'db.users.aggregate([ { \"$match\": { \"firstName\": \"Rohan\" } }, { \"$sort\": { \"createdAt\": -1 } }, { \"$limit\": 5 }, { \"$project\": { \"emailId\": 1, \"_id\": 0 } } ])'`\n",
    "\n",
    "        Remember to always construct the query string in the exact `db.collectionName.aggregate([pipeline])` format for the `query_to_database` tool. Use the collection schema information (like field names `firstName`, `emailId`) when formulating the pipeline stages.\n",
    "\"\"\"\n",
    "    \n",
    "    # runs the query and if it is invalid or returns no result, gracefully handles it will return an error message.\n",
    "    result = db.run_no_throw(query) \n",
    "    \n",
    "    \n",
    "    if not result:\n",
    "        return \"No result returned from the query. Please try again.\"\n",
    "    return result"
   ]
  },
  {
   "cell_type": "code",
   "execution_count": 101,
   "metadata": {},
   "outputs": [
    {
     "data": {
      "text/plain": [
       "'Database name: devTinder\\nCollection name: users\\nSchema from a sample of documents from the collection:\\n_id: ObjectId\\nfirstName: String\\nlastName: String\\nemailId: String\\npassword: String\\nphotoUrl: String\\nskills: Array\\ncreatedAt: Timestamp\\nupdatedAt: Timestamp\\n__v: Number\\n\\n/*\\n3 documents from users collection:\\n[\\n  {\\n    \"_id\": {\\n      \"$oid\": \"66ece21ff3406ae729fafc0c\"\\n    },\\n    \"firstName\": \"Rohan\",\\n    \"lastName\": \"Gore\",\\n    \"emailId\": \"rg@gmail.com\",\\n    \"password\": \"$2b$10$ptCy5NAP59AF5t\",\\n    \"photoUrl\": \"http://dummy.com\",\\n    \"skills\": [],\\n    \"createdAt\": {\\n      \"$date\": \"2024-09-20T02:46:55.558Z\"\\n    },\\n    \"updatedAt\": {\\n      \"$date\": \"2024-09-20T02:46:55.558Z\"\\n    },\\n    \"__v\": 0\\n  },\\n  {\\n    \"_id\": {\\n      \"$oid\": \"66eec283bf081b9c5cb8c96e\"\\n    },\\n    \"firstName\": \"Vibhor\",\\n    \"lastName\": \"J\",\\n    \"emailId\": \"vb@gmail.com\",\\n    \"password\": \"$2b$10$hMCB8xIJxKcr1y\",\\n    \"photoUrl\": \"http://dummy.com\",\\n    \"skills\": [],\\n    \"createdAt\": {\\n      \"$date\": \"2024-09-21T12:56:35.503Z\"\\n    },\\n    \"updatedAt\": {\\n      \"$date\": \"2024-09-26T03:18:45.028Z\"\\n    },\\n    \"__v\": 0\\n  },\\n  {\\n    \"_id\": {\\n      \"$oid\": \"66f0e4794fad30bd74decb15\"\\n    },\\n    \"firstName\": \"Shirish\",\\n    \"lastName\": \"Kisley\",\\n    \"emailId\": \"sk@gmail.com\",\\n    \"password\": \"$2b$10$XxfzXLTnukRQg.\",\\n    \"photoUrl\": \"http://dummy.com\",\\n    \"skills\": [],\\n    \"createdAt\": {\\n      \"$date\": \"2024-09-23T03:46:01.511Z\"\\n    },\\n    \"updatedAt\": {\\n      \"$date\": \"2024-09-23T03:46:01.511Z\"\\n    },\\n    \"__v\": 0\\n  }\\n]\\n*/'"
      ]
     },
     "execution_count": 234,
     "metadata": {},
     "output_type": "execute_result"
    }
   ],
   "source": [
    "db.get_collection_info([\"users\"])"
   ]
  },
  {
   "cell_type": "code",
   "execution_count": 102,
   "metadata": {},
   "outputs": [
    {
     "data": {
      "text/plain": [
       "'[\\n  {\\n    \"_id\": {\\n      \"$oid\": \"67ce3b18d583a646a05cb04f\"\\n    },\\n    \"firstName\": \"Sahil\",\\n    \"lastName\": \"Bhoir\",\\n    \"emailId\": \"sb@gmail.com\",\\n    \"password\": \"$2b$10$HagDQ/B00ra/BpR8tXTSy.ANQMuhsTSaPkwwz4UBn2TYpvXKGub2q\",\\n    \"photoUrl\": \"http://dummy.com\",\\n    \"skills\": [],\\n    \"createdAt\": {\\n      \"$date\": \"2025-03-10T01:06:32.236Z\"\\n    },\\n    \"updatedAt\": {\\n      \"$date\": \"2025-03-12T01:59:29.740Z\"\\n    },\\n    \"__v\": 0,\\n    \"isPayment\": true\\n  }\\n]'"
      ]
     },
     "execution_count": 235,
     "metadata": {},
     "output_type": "execute_result"
    }
   ],
   "source": [
    "# Example of using the tool\n",
    "query_to_database.invoke('db.users.aggregate([ { \"$match\": { \"firstName\": \"Sahil\" } } ])')"
   ]
  },
  {
   "cell_type": "code",
   "execution_count": 103,
   "metadata": {},
   "outputs": [
    {
     "data": {
      "text/plain": [
       "'[\\n  {\\n    \"_id\": {\\n      \"$oid\": \"66ece21ff3406ae729fafc0c\"\\n    },\\n    \"firstName\": \"Rohan\",\\n    \"lastName\": \"Gore\",\\n    \"emailId\": \"rg@gmail.com\",\\n    \"password\": \"$2b$10$ptCy5NAP59AF5txOtIutV.CmoIZoqh1TK1kAaEWpIQjQSjlTwhdgi\",\\n    \"photoUrl\": \"http://dummy.com\",\\n    \"skills\": [],\\n    \"createdAt\": {\\n      \"$date\": \"2024-09-20T02:46:55.558Z\"\\n    },\\n    \"updatedAt\": {\\n      \"$date\": \"2024-09-20T02:46:55.558Z\"\\n    },\\n    \"__v\": 0\\n  },\\n  {\\n    \"_id\": {\\n      \"$oid\": \"66eec283bf081b9c5cb8c96e\"\\n    },\\n    \"firstName\": \"Vibhor\",\\n    \"lastName\": \"J\",\\n    \"emailId\": \"vb@gmail.com\",\\n    \"password\": \"$2b$10$hMCB8xIJxKcr1y5Ho9s94.jSm2/TMNZRWK0ojct5hVigojFJ7hLb.\",\\n    \"photoUrl\": \"http://dummy.com\",\\n    \"skills\": [],\\n    \"createdAt\": {\\n      \"$date\": \"2024-09-21T12:56:35.503Z\"\\n    },\\n    \"updatedAt\": {\\n      \"$date\": \"2024-09-26T03:18:45.028Z\"\\n    },\\n    \"__v\": 0\\n  },\\n  {\\n    \"_id\": {\\n      \"$oid\": \"66f0e4794fad30bd74decb15\"\\n    },\\n    \"firstName\": \"Shirish\",\\n    \"lastName\": \"Kisley\",\\n    \"emailId\": \"sk@gmail.com\",\\n    \"password\": \"$2b$10$XxfzXLTnukRQg.qoIVDdF.1nYwnCW6aNJZRLh/ljVOcKsWGIKA476\",\\n    \"photoUrl\": \"http://dummy.com\",\\n    \"skills\": [],\\n    \"createdAt\": {\\n      \"$date\": \"2024-09-23T03:46:01.511Z\"\\n    },\\n    \"updatedAt\": {\\n      \"$date\": \"2024-09-23T03:46:01.511Z\"\\n    },\\n    \"__v\": 0\\n  },\\n  {\\n    \"_id\": {\\n      \"$oid\": \"66f62472cbc847046e52a2c0\"\\n    },\\n    \"firstName\": \"Saurav\",\\n    \"lastName\": \"Singh\",\\n    \"emailId\": \"ss@gmail.com\",\\n    \"password\": \"$2b$10$l7eBmyvAp.rIpUoF/hEmc.n9f5psy4MhjCzjGvhhuIm39.EwdbcxG\",\\n    \"photoUrl\": \"http://dummy.com\",\\n    \"skills\": [],\\n    \"createdAt\": {\\n      \"$date\": \"2024-09-27T03:20:18.509Z\"\\n    },\\n    \"updatedAt\": {\\n      \"$date\": \"2024-09-27T03:20:18.509Z\"\\n    },\\n    \"__v\": 0\\n  },\\n  {\\n    \"_id\": {\\n      \"$oid\": \"66f62ba0051e3056ef55d9dc\"\\n    },\\n    \"firstName\": \"Shri\",\\n    \"lastName\": \"Nayak\",\\n    \"emailId\": \"sn@gmail.com\",\\n    \"password\": \"$2b$10$BfXiFyhOpA5QFbtVfYE.9e15U8ZJP2AartmBBgIz12a.0j0tN7WUe\",\\n    \"photoUrl\": \"http://dummy.com\",\\n    \"skills\": [],\\n    \"createdAt\": {\\n      \"$date\": \"2024-09-27T03:50:56.197Z\"\\n    },\\n    \"updatedAt\": {\\n      \"$date\": \"2024-09-27T03:50:56.197Z\"\\n    },\\n    \"__v\": 0\\n  },\\n  {\\n    \"_id\": {\\n      \"$oid\": \"67ce3b18d583a646a05cb04f\"\\n    },\\n    \"firstName\": \"Sahil\",\\n    \"lastName\": \"Bhoir\",\\n    \"emailId\": \"sb@gmail.com\",\\n    \"password\": \"$2b$10$HagDQ/B00ra/BpR8tXTSy.ANQMuhsTSaPkwwz4UBn2TYpvXKGub2q\",\\n    \"photoUrl\": \"http://dummy.com\",\\n    \"skills\": [],\\n    \"createdAt\": {\\n      \"$date\": \"2025-03-10T01:06:32.236Z\"\\n    },\\n    \"updatedAt\": {\\n      \"$date\": \"2025-03-12T01:59:29.740Z\"\\n    },\\n    \"__v\": 0,\\n    \"isPayment\": true\\n  }\\n]'"
      ]
     },
     "execution_count": 236,
     "metadata": {},
     "output_type": "execute_result"
    }
   ],
   "source": [
    "query_to_database.invoke('db.users.aggregate([ { \"$match\": { } } ])')"
   ]
  },
  {
   "cell_type": "code",
   "execution_count": 104,
   "metadata": {},
   "outputs": [
    {
     "data": {
      "text/plain": [
       "AIMessage(content='', additional_kwargs={'tool_calls': [{'id': 'call_34c5', 'function': {'arguments': '{\"query\":\"\\'db.users.aggregate([ { \\\\\"$match\\\\\": {} } ])\\'\"}', 'name': 'query_to_database'}, 'type': 'function'}]}, response_metadata={'token_usage': {'completion_tokens': 85, 'prompt_tokens': 1899, 'total_tokens': 1984, 'completion_time': 0.070833333, 'prompt_time': 0.234551936, 'queue_time': 0.237272201, 'total_time': 0.305385269}, 'model_name': 'llama3-8b-8192', 'system_fingerprint': 'fp_a97cfe35ae', 'finish_reason': 'tool_calls', 'logprobs': None}, id='run-ba714cdf-96a2-475b-962e-9edad7e17138-0', tool_calls=[{'name': 'query_to_database', 'args': {'query': '\\'db.users.aggregate([ { \"$match\": {} } ])\\''}, 'id': 'call_34c5', 'type': 'tool_call'}], usage_metadata={'input_tokens': 1899, 'output_tokens': 85, 'total_tokens': 1984})"
      ]
     },
     "execution_count": 237,
     "metadata": {},
     "output_type": "execute_result"
    }
   ],
   "source": [
    "## Tool binding\n",
    "\"\"\"\n",
    "First, it binds the query_to_database tool to the language model (LLM).\n",
    "This essentially gives the LLM access to the database query functionality.\n",
    "\"\"\"\n",
    "llm_with_tools = llm.bind_tools([query_to_database])\n",
    "\n",
    "# Now, when the LLM is asked to show all employees, it can use the query_to_database tool to execute the query.\n",
    "llm_with_tools.invoke(\"show all users\") # it executes \"select * from employees;\"\n"
   ]
  },
  {
   "cell_type": "code",
   "execution_count": 110,
   "metadata": {},
   "outputs": [],
   "source": [
    "# Suppress all warnings\n",
    "import warnings\n",
    "warnings.filterwarnings(\"ignore\")\n",
    "\n",
    "from typing import Annotated, Literal\n",
    "from langchain_core.messages import AIMessage\n",
    "from langchain_core.pydantic_v1 import BaseModel, Field\n",
    "from typing_extensions import TypedDict\n",
    "from langgraph.graph import END, StateGraph, START\n",
    "from langgraph.graph.message import AnyMessage, add_messages\n",
    "from typing import Any\n",
    "from langchain_core.messages import ToolMessage\n",
    "from langchain_core.runnables import RunnableLambda, RunnableWithFallbacks"
   ]
  },
  {
   "cell_type": "code",
   "execution_count": 122,
   "metadata": {},
   "outputs": [],
   "source": [
    "from langchain_core.prompts import ChatPromptTemplate\n",
    "\n",
    "# System Prompt for MongoDB Aggregation String Check\n",
    "mongo_query_check_system = \"\"\"\n",
    "You are an expert MongoDB BSON Query Checker, specializing in validating aggregation query strings for a specific tool.\n",
    "\n",
    "**Tool Requirement:** The tool ONLY accepts query strings in the exact MongoDB shell format: `'db.collectionName.aggregate([pipeline])'`.\n",
    "\n",
    "**Your Task:** Carefully review the provided MongoDB aggregation query string for correctness and adherence to the required format. Check for common mistakes, including:\n",
    "\n",
    "1.  **Format Adherence:** Does the string strictly follow `'db.collectionName.aggregate([pipeline])'`? (e.g., presence of `db.`, `.aggregate(`, `[` and `]`).\n",
    "2.  **Valid Collection Name:** Is a valid collection name used (e.g., `users`, `payments`)?\n",
    "3.  **Valid Pipeline:** Is the pipeline `[...]` a valid JSON array of aggregation stages?\n",
    "4.  **Correct Field Names:** Are the field names likely correct based on common conventions or known schema? (e.g., prefer `firstName` over `first_name` if that's the pattern).\n",
    "5.  **Correct Operators:** Are valid aggregation pipeline stages used (e.g., `$match`, `$project`, `$group`, `$sort`, `$limit`, `$count`, `$lookup`)?\n",
    "6.  **Operator Syntax:** Is the syntax for each operator correct (e.g., `$match` takes an object, `$project` takes an object, `$sort` takes an object, `$limit` takes a number, `$count` takes a string)?\n",
    "7.  **Data Type Mismatches:** Are query conditions comparing fields to values of the correct type? (e.g., querying a string field with a number, or vice-versa).\n",
    "8.  **String Quoting:** Are string literals correctly enclosed in double quotes (`\"`) within the query object parts?\n",
    "9.  **Null Handling:** Is comparison with `null` done correctly?\n",
    "10. **Disallowed Commands:** Does the string incorrectly contain other commands like `find`, `findOne`, `countDocuments`? The tool only runs `aggregate`.\n",
    "\n",
    "**Output:**\n",
    "- If you find any mistakes, **rewrite the entire query string** in the correct `'db.collectionName.aggregate([pipeline])'` format to fix the errors while preserving the original intent.\n",
    "- If the query string is already correct and perfectly follows the required format, reproduce it **exactly** as is.\n",
    "\"\"\"\n",
    "\n",
    "# Create the prompt template\n",
    "query_check_prompt = ChatPromptTemplate.from_messages([\n",
    "    (\"system\", mongo_query_check_system),\n",
    "    (\"placeholder\", \"{query}\") # Placeholder for the MongoDB query string to check\n",
    "])\n",
    "\n",
    "\"\"\"\n",
    "Combining with Tools: \n",
    "The line check_generated_query = query_check_prompt | llm_with_tools \n",
    "combines the prompt template with the LLM that has access to the database tools. This means that when the LLM processes a query, \n",
    "it can also utilize the query_to_database tool if needed.\n",
    "\"\"\"\n",
    "check_generated_query = query_check_prompt | llm_with_tools"
   ]
  },
  {
   "cell_type": "code",
   "execution_count": 124,
   "metadata": {},
   "outputs": [
    {
     "data": {
      "text/plain": [
       "AIMessage(content='', additional_kwargs={'tool_calls': [{'id': 'call_1jem', 'function': {'arguments': '{\"query\":\"\\'db.users.aggregate([ { \\\\\"$match\\\\\": { \\\\\"firstName\\\\\": \\\\\"Rohan\\\\\" } } ])\\'\"}', 'name': 'query_to_database'}, 'type': 'function'}]}, response_metadata={'token_usage': {'completion_tokens': 86, 'prompt_tokens': 4769, 'total_tokens': 4855, 'completion_time': 0.071666667, 'prompt_time': 0.616123907, 'queue_time': -0.850360135, 'total_time': 0.687790574}, 'model_name': 'llama3-8b-8192', 'system_fingerprint': 'fp_dadc9d6142', 'finish_reason': 'tool_calls', 'logprobs': None}, id='run-6cf9a823-ff2b-42f9-99fd-95e16c290c2f-0', tool_calls=[{'name': 'query_to_database', 'args': {'query': '\\'db.users.aggregate([ { \"$match\": { \"firstName\": \"Rohan\" } } ])\\''}, 'id': 'call_1jem', 'type': 'tool_call'}], usage_metadata={'input_tokens': 4769, 'output_tokens': 86, 'total_tokens': 4855})"
      ]
     },
     "execution_count": 240,
     "metadata": {},
     "output_type": "execute_result"
    }
   ],
   "source": [
    "check_generated_query.invoke({\"messages\": [(\"user\", 'SHOW ALL USERS')]})"
   ]
  },
  {
   "cell_type": "code",
   "execution_count": 125,
   "metadata": {},
   "outputs": [
    {
     "data": {
      "text/plain": [
       "AIMessage(content='', additional_kwargs={'tool_calls': [{'id': 'call_zky2', 'function': {'arguments': '{\"query\":\"db.users.aggregate([ { \\\\\"$match\\\\\": { \\\\\"firstName\\\\\": \\\\\"Rohan\\\\\" } } ])\"}', 'name': 'query_to_database'}, 'type': 'function'}]}, response_metadata={'token_usage': {'completion_tokens': 85, 'prompt_tokens': 4769, 'total_tokens': 4854, 'completion_time': 0.070833333, 'prompt_time': 0.651271192, 'queue_time': -0.886334001, 'total_time': 0.722104525}, 'model_name': 'llama3-8b-8192', 'system_fingerprint': 'fp_179b0f92c9', 'finish_reason': 'tool_calls', 'logprobs': None}, id='run-8bd159ab-71e9-4550-b350-d88056f6736d-0', tool_calls=[{'name': 'query_to_database', 'args': {'query': 'db.users.aggregate([ { \"$match\": { \"firstName\": \"Rohan\" } } ])'}, 'id': 'call_zky2', 'type': 'tool_call'}], usage_metadata={'input_tokens': 4769, 'output_tokens': 85, 'total_tokens': 4854})"
      ]
     },
     "execution_count": 243,
     "metadata": {},
     "output_type": "execute_result"
    }
   ],
   "source": [
    "check_generated_query.invoke({\"messages\": [(\"user\", \"SELECT everything FROM users LIMITs 5;\")]})"
   ]
  },
  {
   "cell_type": "code",
   "execution_count": 126,
   "metadata": {},
   "outputs": [],
   "source": [
    "# Defining the Class for formatted output\n",
    "\n",
    "class SubmitFinalAnswer(BaseModel):\n",
    "    \"\"\"Submit the final answer to the user based on the query results.\"\"\"\n",
    "    final_answer: str = Field(..., description=\"The final answer to the user's question.\")\n",
    "    \n",
    "llm_with_final_answer = llm.bind_tools([SubmitFinalAnswer])"
   ]
  },
  {
   "cell_type": "code",
   "execution_count": 145,
   "metadata": {},
   "outputs": [],
   "source": [
    "# First, update the system prompt to be more explicit about the tool calling format\n",
    "query_gen_system_prompt = \"\"\"You are a MongoDB aggregation expert who helps translate natural language questions into proper MongoDB aggregation queries.\n",
    "\n",
    "IMPORTANT: When calling the query_to_database tool, you MUST provide a SINGLE STRING parameter named \"query\" in the exact format: 'db.collectionName.aggregate([pipeline])'.\n",
    "\n",
    "For example:\n",
    "- CORRECT: query_to_database(query='db.users.aggregate([ {{ \"$match\": {{}} }} ])')\n",
    "- INCORRECT: query_to_database(pipeline=[{{\"$match\": {{}}}}])\n",
    "\n",
    "Guidelines for generating MongoDB queries:\n",
    "1. Use ONLY aggregation framework syntax ($match, $project, $sort, $limit, $count)\n",
    "2. Always use the correct field names from the schema (e.g., 'firstName', not 'first_name')\n",
    "3. Always limit results to 5 documents using $limit unless otherwise specified\n",
    "4. Format your query as a properly escaped string with single quotes around the entire query\n",
    "5. Use double quotes for field names and string values inside the query\n",
    "\n",
    "Example of a complete valid call:\n",
    "query_to_database(query='db.users.aggregate([ {{ \"$match\": {{}} }}, {{ \"$limit\": 5 }} ])')\n",
    "\n",
    "After the query returns results:\n",
    "1. If you get an error, correct your query and try again\n",
    "2. Once you have the results, use SubmitFinalAnswer to provide the final response to the user\n",
    "\"\"\"\n",
    "\n",
    "# Create the prompt template\n",
    "query_gen_prompt = ChatPromptTemplate.from_messages([\n",
    "    (\"system\", query_gen_system_prompt), \n",
    "    (\"placeholder\", \"{messages}\")\n",
    "])\n",
    "\n",
    "# Make sure we have both tools available in a single binding\n",
    "all_tools = [query_to_database, SubmitFinalAnswer]\n",
    "llm_with_all_tools = llm.bind_tools(all_tools)\n",
    "\n",
    "# Bind the prompt to the LLM with all tools\n",
    "query_generator = query_gen_prompt | llm_with_all_tools"
   ]
  },
  {
   "cell_type": "code",
   "execution_count": 147,
   "metadata": {},
   "outputs": [
    {
     "data": {
      "text/plain": [
       "AIMessage(content='', additional_kwargs={'tool_calls': [{'id': 'call_m5qt', 'function': {'arguments': '{\"query\":\"\\'db.users.aggregate([ { \\\\\"$match\\\\\": { \\\\\"firstName\\\\\": \\\\\"Rohan\\\\\", \\\\\"lastName\\\\\": \\\\\"Gore\\\\\" } } ])\\'\"}', 'name': 'query_to_database'}, 'type': 'function'}]}, response_metadata={'token_usage': {'completion_tokens': 93, 'prompt_tokens': 4617, 'total_tokens': 4710, 'completion_time': 0.0775, 'prompt_time': 0.594773278, 'queue_time': -0.829749747, 'total_time': 0.672273278}, 'model_name': 'llama3-8b-8192', 'system_fingerprint': 'fp_dadc9d6142', 'finish_reason': 'tool_calls', 'logprobs': None}, id='run-14c0452a-3b8b-4979-8a9b-6d09f0c812d7-0', tool_calls=[{'name': 'query_to_database', 'args': {'query': '\\'db.users.aggregate([ { \"$match\": { \"firstName\": \"Rohan\", \"lastName\": \"Gore\" } } ])\\''}, 'id': 'call_m5qt', 'type': 'tool_call'}], usage_metadata={'input_tokens': 4617, 'output_tokens': 93, 'total_tokens': 4710})"
      ]
     },
     "execution_count": 246,
     "metadata": {},
     "output_type": "execute_result"
    }
   ],
   "source": [
    "# Example of using the query generator\n",
    "query_generator.invoke({\"messages\":[(\"can you fetch the user name Rohan Gore from users?\")]})"
   ]
  },
  {
   "cell_type": "code",
   "execution_count": 148,
   "metadata": {},
   "outputs": [
    {
     "data": {
      "text/plain": [
       "AIMessage(content='/tool-use>\\n{\\n    \"tool_calls\": [\\n        {\\n            \"id\": \"pending\",\\n            \"type\": \"function\",\\n            \"function\": {\\n                \"name\": \"query_to_database\"\\n            },\\n            \"parameters\": {\\n                \"query\": \"\\'db.users.aggregate([ { \\\\\"$match\\\\\": {} }, { \\\\\"$count\\\\\": \\\\\"total_users_count\\\\\" } ])\\'\"\\n            }\\n        }\\n    ]\\n}\\n</tool-use>', additional_kwargs={}, response_metadata={'token_usage': {'completion_tokens': 86, 'prompt_tokens': 2294, 'total_tokens': 2380, 'completion_time': 0.071666667, 'prompt_time': 0.286891079, 'queue_time': 0.23272687000000003, 'total_time': 0.358557746}, 'model_name': 'llama3-8b-8192', 'system_fingerprint': 'fp_a97cfe35ae', 'finish_reason': 'stop', 'logprobs': None}, id='run-c665a030-44fb-4b0c-8c56-adde8db44c7f-0', usage_metadata={'input_tokens': 2294, 'output_tokens': 86, 'total_tokens': 2380})"
      ]
     },
     "execution_count": 247,
     "metadata": {},
     "output_type": "execute_result"
    }
   ],
   "source": [
    "query_generator.invoke({\"messages\":[(\"can you give the count of users?\")]})"
   ]
  },
  {
   "cell_type": "markdown",
   "metadata": {},
   "source": [
    "# Creating the Nodes"
   ]
  },
  {
   "cell_type": "code",
   "execution_count": 289,
   "metadata": {},
   "outputs": [],
   "source": [
    "\"\"\"\n",
    "Purpose: This class defines the structure of the State object, which holds the conversation messages.\n",
    "\n",
    "Attributes: It has a single attribute, messages, which is a list of messages (of type AnyMessage). \n",
    "\n",
    "The Annotated type suggests that there may be additional processing or validation applied to the messages.\n",
    "\"\"\"\n",
    "class State(TypedDict):\n",
    "    messages: Annotated[list[AnyMessage], add_messages]\n",
    "    \n",
    "    \n",
    "\"\"\"\n",
    "Purpose: This function handles errors that occur during tool calls.\n",
    "\n",
    "Parameters: It takes the state object as input.\n",
    "\n",
    "Error Handling: It retrieves the error message from the state and the list of tool calls from the last message.\n",
    "\n",
    "Return Value: It returns a dictionary containing messages that inform the user of the error, \n",
    "including the specific tool call that failed. Each error message is associated with the corresponding tool call ID.\n",
    "\n",
    "Usage: This function is useful for providing feedback to users when something goes wrong during a tool invocation.\n",
    "\"\"\"\n",
    "def handle_tool_error(state:State):\n",
    "    error = state.get(\"error\") \n",
    "    tool_calls = state[\"messages\"][-1].tool_calls\n",
    "    \n",
    "    return { \"messages\": [ ToolMessage(content=f\"Error: {repr(error)}\\n please fix your mistakes.\",tool_call_id=tc[\"id\"],) for tc in tool_calls ] }\n",
    "\n",
    "\"\"\"\n",
    "Purpose: This function creates a node that can execute a list of tools and handle errors with a fallback mechanism.\n",
    "\n",
    "Parameters: It takes a list of tools as input.\n",
    "\n",
    "Return Value: It returns a ToolNode that is configured to use the provided tools and includes a \n",
    "fallback to the handle_tool_error function if an error occurs during execution.\n",
    "\n",
    "Usage: This setup allows for robust error handling in a system where multiple tools may be called, \n",
    "ensuring that users receive appropriate feedback if something goes wrong.\n",
    "\"\"\"\n",
    "def create_node_from_tool_with_fallback(tools:list)-> RunnableWithFallbacks[Any, dict]:\n",
    "    \n",
    "    # Create a simple tool lookup dictionary\n",
    "    tool_map = {tool.name: tool for tool in tools}\n",
    "    \n",
    "    def execute_tools(state):\n",
    "        messages = state[\"messages\"]\n",
    "        last_message = messages[-1]\n",
    "        \n",
    "        if not hasattr(last_message, \"tool_calls\") or not last_message.tool_calls:\n",
    "            return {\"messages\": []}\n",
    "        \n",
    "        results = []\n",
    "        for tool_call in last_message.tool_calls:\n",
    "            try:\n",
    "                tool_name = tool_call[\"name\"]\n",
    "                tool = tool_map.get(tool_name)\n",
    "                if not tool:\n",
    "                    raise ValueError(f\"Tool '{tool_name}' not found\")\n",
    "                \n",
    "                args = tool_call.get(\"args\", {})\n",
    "                \n",
    "                # Print the query if this is the query_to_database tool\n",
    "                if tool_name == \"query_to_database\" and \"query\" in args:\n",
    "                    print(f\"\\n==== EXECUTING MONGODB QUERY ====\")\n",
    "                    print(f\"{args['query']}\")\n",
    "                    print(\"==================================\\n\")\n",
    "                                    \n",
    "                output = tool.invoke(args)\n",
    "                results.append(ToolMessage(content=str(output), tool_call_id=tool_call[\"id\"]))\n",
    "            except Exception as e:\n",
    "                results.append(ToolMessage(content=f\"Error: {str(e)}\", tool_call_id=tool_call[\"id\"]))\n",
    "        \n",
    "        return {\"messages\": results}\n",
    "    \n",
    "    return RunnableLambda(execute_tools).with_fallbacks([RunnableLambda(handle_tool_error)], exception_key=\"error\")"
   ]
  },
  {
   "cell_type": "code",
   "execution_count": 290,
   "metadata": {},
   "outputs": [],
   "source": [
    "# Node Creation: This line creates a node named list_collection using the create_node_from_tool_with_fallback function.\n",
    "# Tool Binding: The argument [list_collections_tool] indicates that this node will use the list_collections_tool, \n",
    "# which is presumably a tool designed to list the collection in a database.\n",
    "list_collection=create_node_from_tool_with_fallback([list_collections_tool])\n",
    "\n",
    "# Node Creation: This line creates a node named get_schema in a similar manner.\n",
    "# Tool Binding: The argument [get_schema_tool] indicates that this node will use the get_schema_tool, \n",
    "# which is intended to retrieve the database schema.\n",
    "get_schema=create_node_from_tool_with_fallback([get_schema_tool])\n",
    "\n",
    "# Node Creation: This line creates a node named query_database.\n",
    "# Tool Binding: The argument [query_to_database] indicates that this node will use the query_to_database tool, \n",
    "# which is responsible for executing SQL queries against the database.\n",
    "query_database=create_node_from_tool_with_fallback([query_to_database])"
   ]
  },
  {
   "cell_type": "code",
   "execution_count": 291,
   "metadata": {},
   "outputs": [],
   "source": [
    "\"\"\"\n",
    "Purpose: This function is designed to be called when the first tool (in this case, mongodb_list_collections) is invoked in the conversation.\n",
    "\n",
    "Parameters: It takes a state parameter, which represents the current state of the conversation.\n",
    "\n",
    "Return Value: It returns a dictionary containing a list of messages. \n",
    "The message includes a tool call to mongodb_list_collections, which is likely intended to retrieve a list of collections from a Mongodb.\n",
    "\"\"\"\n",
    "\n",
    "def first_tool_call(state: State) -> dict[str, list[AIMessage]]:\n",
    "    \"\"\"\n",
    "    This function is called when the first tool is called.\n",
    "    It takes the state of the conversation and returns a dictionary with the tool call and the list of messages.\n",
    "    \"\"\"\n",
    "    return {\"messages\": [AIMessage(content=\"\", tool_calls=[{\"name\":\"mongodb_list_collections\", \"args\":{}, \"id\": \"tool_call_id\"}])]}\n",
    "    "
   ]
  },
  {
   "cell_type": "code",
   "execution_count": 292,
   "metadata": {},
   "outputs": [],
   "source": [
    "\"\"\"\n",
    "The primary purpose of this function is to validate or check the Mongodb query provided by the user. \n",
    "It leverages the check_generated_query mechanism, which is presumably set up to analyze Mongodb queries for correctness and provide feedback.\n",
    "\"\"\"\n",
    "def check_the_given_query(state: State):\n",
    "    print(f\"Checking the given query: {state}\")\n",
    "    \n",
    "    \"\"\"\n",
    "    It invokes method on check_generated_query, passing in a dictionary that contains the last message from the state object.\n",
    "    state[\"messages\"][-1] retrieves the most recent message in the conversation, which is likely the Mongodb query that needs to be checked.\n",
    "    \"\"\"\n",
    "    return {\"messages\": [check_generated_query.invoke({\"messages\": [state[\"messages\"][-1]]})]}"
   ]
  },
  {
   "cell_type": "code",
   "execution_count": 293,
   "metadata": {},
   "outputs": [],
   "source": [
    "# This state contains information about the current conversation, including user messages.\n",
    "def generation_query(state: State):\n",
    "    # calls the invoke method on query_generator, passing the current state. \n",
    "    # This generates a message that includes the mongo query based on the user's input.\n",
    "    message = query_generator.invoke(state)\n",
    "    \n",
    "    # Sometimes, the LLM will hallucinate and call the wrong tool. We need to catch this and return an error message.\n",
    "    tool_messages = [] # To collect any error messages related to tool calls.\n",
    "    if message.tool_calls:\n",
    "        for tc in message.tool_calls:\n",
    "            # Other tools, like query_to_database, are used for different purposes \n",
    "            # (e.g., generating or executing mongo queries) and are not meant to be called directly \n",
    "            # in the context of submitting answers.\n",
    "            # This ensures that the LLM only calls the SubmitFinalAnswer tool \n",
    "            # when it's ready to submit the final answer.\n",
    "\n",
    "            if tc[\"name\"] != \"SubmitFinalAnswer\":\n",
    "                tool_messages.append(\n",
    "                    ToolMessage(\n",
    "                        content=f\"\"\"Error: The tool {tc['name']} is not valid. Please fix your mistakes. \n",
    "                        Remember to only call SubmitFinalAnswer to submit the final answer. \n",
    "                        Generated queries should be outputted WITHOUT a tool call.\"\"\",\n",
    "                        tool_call_id=tc[\"id\"]  # Correctly placed\n",
    "                    )\n",
    "                )    \n",
    "    else:\n",
    "        tool_messages = []\n",
    "    \n",
    "    return {\"messages\": [message] + tool_messages}"
   ]
  },
  {
   "cell_type": "code",
   "execution_count": 294,
   "metadata": {},
   "outputs": [],
   "source": [
    "def should_continue(state: State):\n",
    "    print(f\"State from should_continue: {state}\")\n",
    "    messages = state[\"messages\"]\n",
    "    last_message = messages[-1]\n",
    "    \n",
    "    print(f\"Last message: {last_message}\")\n",
    "    \n",
    "    if getattr(last_message, \"tool_calls\", None): # checks if the last message has any associated tool calls\n",
    "        print(\"Last message is a tool call. Ending the conversation.\")\n",
    "        \n",
    "        return END\n",
    "    elif last_message.content.startswith(\"Error: \"):\n",
    "        print(\"Last message is an error. regenrating the query.\")\n",
    "        # suggesting that the system should return to the query generation phase to correct the issue.\n",
    "        return \"query_gen\"\n",
    "    else:\n",
    "        print(\"Last message is a normal message. Continuing the conversation.\")\n",
    "        # the system should proceed to the next step in the query correction or generation process.\n",
    "        return \"correct_query\""
   ]
  },
  {
   "cell_type": "code",
   "execution_count": 295,
   "metadata": {},
   "outputs": [],
   "source": [
    "\"\"\"\n",
    "the llm_get_schema function retrieves the database schema by invoking the LLM with the current \n",
    "conversation messages.\n",
    "\"\"\"\n",
    "\n",
    "def llm_get_schema(state: State):\n",
    "    print(f\"Getting the llm_get_schema: {state}\")\n",
    "    # It invoke method on llm_to_get_schema, passing the list of messages from the current state.\n",
    "    # This invocation is expected to trigger the LLM to process the messages and \n",
    "    # generate a response related to the database schema.\n",
    "    messages = state[\"messages\"]\n",
    "    response = llm_to_get_schema.invoke(messages) # \"llm_to_get_schema\" output is the schema and sample rows for those tables\n",
    "    \n",
    "    return {\"messages\": [response]}"
   ]
  },
  {
   "cell_type": "markdown",
   "metadata": {},
   "source": [
    "## Building Agent Workflow"
   ]
  },
  {
   "cell_type": "code",
   "execution_count": 296,
   "metadata": {},
   "outputs": [
    {
     "data": {
      "text/plain": [
       "<langgraph.graph.state.StateGraph at 0x124fc6510>"
      ]
     },
     "execution_count": 296,
     "metadata": {},
     "output_type": "execute_result"
    }
   ],
   "source": [
    "\"\"\"\n",
    "This initializes a new StateGraph object called workflow. The StateGraph is likely a structure that \n",
    "manages different states and transitions between them based on certain conditions or events. \n",
    "The State parameter indicates that the graph will use the State type to track the current state of the conversation or process.\n",
    "\"\"\"\n",
    "workflow = StateGraph(State)\n",
    "\n",
    "\"\"\"\n",
    "Node Name: \"first_tool_call\" is the name of the node.\n",
    "Function: first_tool_call is the function that will be executed when this node is reached. \n",
    "This function likely initiates the first tool call in the workflow.\n",
    "\"\"\"\n",
    "workflow.add_node(\"first_tool_call\", first_tool_call) # invokes sql_db_list_tables tool from SQLDatabaseToolkit\n",
    "workflow.add_node(\"list_collections_tool\", list_collection) # get list of tables from the database\n",
    "workflow.add_node(\"model_get_schema\", llm_get_schema) # get schema of the database from the model\n",
    "workflow.add_node(\"get_schema_tool\", get_schema) # get schema of the database\n",
    "workflow.add_node(\"query_gen\", generation_query) # generate the query\n",
    "workflow.add_node(\"correct_query\", check_the_given_query) # check the given query\n",
    "workflow.add_node(\"execute_query\", query_database) # execute the query"
   ]
  },
  {
   "cell_type": "code",
   "execution_count": 297,
   "metadata": {},
   "outputs": [
    {
     "data": {
      "text/plain": [
       "<langgraph.graph.state.StateGraph at 0x124fc6510>"
      ]
     },
     "execution_count": 297,
     "metadata": {},
     "output_type": "execute_result"
    }
   ],
   "source": [
    "\"\"\"\n",
    "The provided code snippet sets up the edges (or transitions) between nodes in a workflow \n",
    "represented by a StateGraph. This defines how the system moves from one state to another \n",
    "based on specific actions or conditions.\n",
    "\"\"\"\n",
    "\n",
    "# Start the workflow.\n",
    "workflow.add_edge(START, \"first_tool_call\") # directed edge from the START node to the \"first_tool_call\" node\n",
    "\n",
    "# This indicates that the next action is to list the tables in the database.\n",
    "workflow.add_edge(\"first_tool_call\", \"list_collections_tool\") # get list of tables from the database\n",
    "\n",
    "# This indicates that the next action is to get the schema of the database from the model.\n",
    "workflow.add_edge(\"list_collections_tool\", \"model_get_schema\") # get schema of the database from the model\n",
    "\n",
    "# responsible for interacting with the language model to retrieve the schema.\n",
    "workflow.add_edge(\"model_get_schema\", \"get_schema_tool\")\n",
    "\n",
    "# This indicates that the next action is to generate the query.\n",
    "workflow.add_edge(\"get_schema_tool\", \"query_gen\") # generate the query\n",
    "\n",
    "# This indicates that the next action is to check the given query.\n",
    "workflow.add_conditional_edges(\"query_gen\", should_continue, { \n",
    "    END: END,\n",
    "    \"correct_query\": \"correct_query\",\n",
    "    \"query_gen\": \"query_gen\"  # Add this line to handle the error case\n",
    "}) # check the given query\n",
    "\n",
    "# This indicates that the next action is to execute the query.\n",
    "workflow.add_edge(\"correct_query\", \"execute_query\") # execute the query\n",
    "\n",
    "# This indicates that the next action is to generate the query.\n",
    "workflow.add_edge(\"execute_query\", \"query_gen\") # generate the query"
   ]
  },
  {
   "cell_type": "code",
   "execution_count": 298,
   "metadata": {},
   "outputs": [],
   "source": [
    "app = workflow.compile()"
   ]
  },
  {
   "cell_type": "code",
   "execution_count": 300,
   "metadata": {},
   "outputs": [
    {
     "name": "stdout",
     "output_type": "stream",
     "text": [
      "Getting the llm_get_schema: {'messages': [HumanMessage(content='how many users are in users collection?', additional_kwargs={}, response_metadata={}, id='256be232-30cd-4ca6-8e0b-d245f0d6f32d'), AIMessage(content='', additional_kwargs={}, response_metadata={}, id='7e2a64ce-ea78-4fe1-b8a2-c0616150fcac', tool_calls=[{'name': 'mongodb_list_collections', 'args': {}, 'id': 'tool_call_id', 'type': 'tool_call'}]), ToolMessage(content='chats, connectionrequests, payments, test_collection, users', id='235e8853-1462-4831-931e-76eb1a909fb0', tool_call_id='tool_call_id')]}\n",
      "State from should_continue: {'messages': [HumanMessage(content='how many users are in users collection?', additional_kwargs={}, response_metadata={}, id='256be232-30cd-4ca6-8e0b-d245f0d6f32d'), AIMessage(content='', additional_kwargs={}, response_metadata={}, id='7e2a64ce-ea78-4fe1-b8a2-c0616150fcac', tool_calls=[{'name': 'mongodb_list_collections', 'args': {}, 'id': 'tool_call_id', 'type': 'tool_call'}]), ToolMessage(content='chats, connectionrequests, payments, test_collection, users', id='235e8853-1462-4831-931e-76eb1a909fb0', tool_call_id='tool_call_id'), AIMessage(content='', additional_kwargs={'tool_calls': [{'id': 'call_s8wv', 'function': {'arguments': '{\"collection_names\":\"users\"}', 'name': 'mongodb_schema'}, 'type': 'function'}]}, response_metadata={'token_usage': {'completion_tokens': 34, 'prompt_tokens': 1055, 'total_tokens': 1089, 'completion_time': 0.028333333, 'prompt_time': 0.131515827, 'queue_time': 0.23690932, 'total_time': 0.15984916}, 'model_name': 'llama3-8b-8192', 'system_fingerprint': 'fp_dadc9d6142', 'finish_reason': 'tool_calls', 'logprobs': None}, id='run-c2604aae-a2b8-41f3-9919-f3161059d841-0', tool_calls=[{'name': 'mongodb_schema', 'args': {'collection_names': 'users'}, 'id': 'call_s8wv', 'type': 'tool_call'}], usage_metadata={'input_tokens': 1055, 'output_tokens': 34, 'total_tokens': 1089}), ToolMessage(content='Database name: devTinder\\nCollection name: users\\nSchema from a sample of documents from the collection:\\n_id: ObjectId\\nfirstName: String\\nlastName: String\\nemailId: String\\npassword: String\\nphotoUrl: String\\nskills: Array\\ncreatedAt: Timestamp\\nupdatedAt: Timestamp\\n__v: Number\\n\\n/*\\n3 documents from users collection:\\n[\\n  {\\n    \"_id\": {\\n      \"$oid\": \"66f62472cbc847046e52a2c0\"\\n    },\\n    \"firstName\": \"Saurav\",\\n    \"lastName\": \"Singh\",\\n    \"emailId\": \"ss@gmail.com\",\\n    \"password\": \"$2b$10$l7eBmyvAp.rIpU\",\\n    \"photoUrl\": \"http://dummy.com\",\\n    \"skills\": [],\\n    \"createdAt\": {\\n      \"$date\": \"2024-09-27T03:20:18.509Z\"\\n    },\\n    \"updatedAt\": {\\n      \"$date\": \"2024-09-27T03:20:18.509Z\"\\n    },\\n    \"__v\": 0\\n  },\\n  {\\n    \"_id\": {\\n      \"$oid\": \"66eec283bf081b9c5cb8c96e\"\\n    },\\n    \"firstName\": \"Vibhor\",\\n    \"lastName\": \"J\",\\n    \"emailId\": \"vb@gmail.com\",\\n    \"password\": \"$2b$10$hMCB8xIJxKcr1y\",\\n    \"photoUrl\": \"http://dummy.com\",\\n    \"skills\": [],\\n    \"createdAt\": {\\n      \"$date\": \"2024-09-21T12:56:35.503Z\"\\n    },\\n    \"updatedAt\": {\\n      \"$date\": \"2024-09-26T03:18:45.028Z\"\\n    },\\n    \"__v\": 0\\n  },\\n  {\\n    \"_id\": {\\n      \"$oid\": \"66f62ba0051e3056ef55d9dc\"\\n    },\\n    \"firstName\": \"Shri\",\\n    \"lastName\": \"Nayak\",\\n    \"emailId\": \"sn@gmail.com\",\\n    \"password\": \"$2b$10$BfXiFyhOpA5QFb\",\\n    \"photoUrl\": \"http://dummy.com\",\\n    \"skills\": [],\\n    \"createdAt\": {\\n      \"$date\": \"2024-09-27T03:50:56.197Z\"\\n    },\\n    \"updatedAt\": {\\n      \"$date\": \"2024-09-27T03:50:56.197Z\"\\n    },\\n    \"__v\": 0\\n  }\\n]\\n*/', id='2805df61-3c9c-4200-a11f-2939d23471e2', tool_call_id='call_s8wv'), AIMessage(content='', additional_kwargs={'tool_calls': [{'id': 'call_7r0h', 'function': {'arguments': '{\"query\":\"\\'db.users.aggregate([ { \\\\\"$match\\\\\": { } } ])\\'\"}', 'name': 'query_to_database'}, 'type': 'function'}]}, response_metadata={'token_usage': {'completion_tokens': 52, 'prompt_tokens': 2976, 'total_tokens': 3028, 'completion_time': 0.043333333, 'prompt_time': 0.38991527, 'queue_time': 0.26159059600000006, 'total_time': 0.433248603}, 'model_name': 'llama3-8b-8192', 'system_fingerprint': 'fp_179b0f92c9', 'finish_reason': 'tool_calls', 'logprobs': None}, id='run-dfb72fb0-52ad-4b39-9868-22072929bb3a-0', tool_calls=[{'name': 'query_to_database', 'args': {'query': '\\'db.users.aggregate([ { \"$match\": { } } ])\\''}, 'id': 'call_7r0h', 'type': 'tool_call'}], usage_metadata={'input_tokens': 2976, 'output_tokens': 52, 'total_tokens': 3028}), ToolMessage(content='Error: The tool query_to_database is not valid. Please fix your mistakes. \\n                        Remember to only call SubmitFinalAnswer to submit the final answer. \\n                        Generated queries should be outputted WITHOUT a tool call.', id='ffa3d427-fc15-46d1-968e-e445f9f72e0f', tool_call_id='call_7r0h')]}\n",
      "Last message: content='Error: The tool query_to_database is not valid. Please fix your mistakes. \\n                        Remember to only call SubmitFinalAnswer to submit the final answer. \\n                        Generated queries should be outputted WITHOUT a tool call.' id='ffa3d427-fc15-46d1-968e-e445f9f72e0f' tool_call_id='call_7r0h'\n",
      "Last message is an error. regenrating the query.\n",
      "State from should_continue: {'messages': [HumanMessage(content='how many users are in users collection?', additional_kwargs={}, response_metadata={}, id='256be232-30cd-4ca6-8e0b-d245f0d6f32d'), AIMessage(content='', additional_kwargs={}, response_metadata={}, id='7e2a64ce-ea78-4fe1-b8a2-c0616150fcac', tool_calls=[{'name': 'mongodb_list_collections', 'args': {}, 'id': 'tool_call_id', 'type': 'tool_call'}]), ToolMessage(content='chats, connectionrequests, payments, test_collection, users', id='235e8853-1462-4831-931e-76eb1a909fb0', tool_call_id='tool_call_id'), AIMessage(content='', additional_kwargs={'tool_calls': [{'id': 'call_s8wv', 'function': {'arguments': '{\"collection_names\":\"users\"}', 'name': 'mongodb_schema'}, 'type': 'function'}]}, response_metadata={'token_usage': {'completion_tokens': 34, 'prompt_tokens': 1055, 'total_tokens': 1089, 'completion_time': 0.028333333, 'prompt_time': 0.131515827, 'queue_time': 0.23690932, 'total_time': 0.15984916}, 'model_name': 'llama3-8b-8192', 'system_fingerprint': 'fp_dadc9d6142', 'finish_reason': 'tool_calls', 'logprobs': None}, id='run-c2604aae-a2b8-41f3-9919-f3161059d841-0', tool_calls=[{'name': 'mongodb_schema', 'args': {'collection_names': 'users'}, 'id': 'call_s8wv', 'type': 'tool_call'}], usage_metadata={'input_tokens': 1055, 'output_tokens': 34, 'total_tokens': 1089}), ToolMessage(content='Database name: devTinder\\nCollection name: users\\nSchema from a sample of documents from the collection:\\n_id: ObjectId\\nfirstName: String\\nlastName: String\\nemailId: String\\npassword: String\\nphotoUrl: String\\nskills: Array\\ncreatedAt: Timestamp\\nupdatedAt: Timestamp\\n__v: Number\\n\\n/*\\n3 documents from users collection:\\n[\\n  {\\n    \"_id\": {\\n      \"$oid\": \"66f62472cbc847046e52a2c0\"\\n    },\\n    \"firstName\": \"Saurav\",\\n    \"lastName\": \"Singh\",\\n    \"emailId\": \"ss@gmail.com\",\\n    \"password\": \"$2b$10$l7eBmyvAp.rIpU\",\\n    \"photoUrl\": \"http://dummy.com\",\\n    \"skills\": [],\\n    \"createdAt\": {\\n      \"$date\": \"2024-09-27T03:20:18.509Z\"\\n    },\\n    \"updatedAt\": {\\n      \"$date\": \"2024-09-27T03:20:18.509Z\"\\n    },\\n    \"__v\": 0\\n  },\\n  {\\n    \"_id\": {\\n      \"$oid\": \"66eec283bf081b9c5cb8c96e\"\\n    },\\n    \"firstName\": \"Vibhor\",\\n    \"lastName\": \"J\",\\n    \"emailId\": \"vb@gmail.com\",\\n    \"password\": \"$2b$10$hMCB8xIJxKcr1y\",\\n    \"photoUrl\": \"http://dummy.com\",\\n    \"skills\": [],\\n    \"createdAt\": {\\n      \"$date\": \"2024-09-21T12:56:35.503Z\"\\n    },\\n    \"updatedAt\": {\\n      \"$date\": \"2024-09-26T03:18:45.028Z\"\\n    },\\n    \"__v\": 0\\n  },\\n  {\\n    \"_id\": {\\n      \"$oid\": \"66f62ba0051e3056ef55d9dc\"\\n    },\\n    \"firstName\": \"Shri\",\\n    \"lastName\": \"Nayak\",\\n    \"emailId\": \"sn@gmail.com\",\\n    \"password\": \"$2b$10$BfXiFyhOpA5QFb\",\\n    \"photoUrl\": \"http://dummy.com\",\\n    \"skills\": [],\\n    \"createdAt\": {\\n      \"$date\": \"2024-09-27T03:50:56.197Z\"\\n    },\\n    \"updatedAt\": {\\n      \"$date\": \"2024-09-27T03:50:56.197Z\"\\n    },\\n    \"__v\": 0\\n  }\\n]\\n*/', id='2805df61-3c9c-4200-a11f-2939d23471e2', tool_call_id='call_s8wv'), AIMessage(content='', additional_kwargs={'tool_calls': [{'id': 'call_7r0h', 'function': {'arguments': '{\"query\":\"\\'db.users.aggregate([ { \\\\\"$match\\\\\": { } } ])\\'\"}', 'name': 'query_to_database'}, 'type': 'function'}]}, response_metadata={'token_usage': {'completion_tokens': 52, 'prompt_tokens': 2976, 'total_tokens': 3028, 'completion_time': 0.043333333, 'prompt_time': 0.38991527, 'queue_time': 0.26159059600000006, 'total_time': 0.433248603}, 'model_name': 'llama3-8b-8192', 'system_fingerprint': 'fp_179b0f92c9', 'finish_reason': 'tool_calls', 'logprobs': None}, id='run-dfb72fb0-52ad-4b39-9868-22072929bb3a-0', tool_calls=[{'name': 'query_to_database', 'args': {'query': '\\'db.users.aggregate([ { \"$match\": { } } ])\\''}, 'id': 'call_7r0h', 'type': 'tool_call'}], usage_metadata={'input_tokens': 2976, 'output_tokens': 52, 'total_tokens': 3028}), ToolMessage(content='Error: The tool query_to_database is not valid. Please fix your mistakes. \\n                        Remember to only call SubmitFinalAnswer to submit the final answer. \\n                        Generated queries should be outputted WITHOUT a tool call.', id='ffa3d427-fc15-46d1-968e-e445f9f72e0f', tool_call_id='call_7r0h'), AIMessage(content='I apologize for the mistake. Here\\'s another attempt:\\n\\n\\'db.users.aggregate([ { \"$match\": {} } ])\\'\\n\\nPlease let me know if this query is valid. If not, I\\'ll try again.', additional_kwargs={}, response_metadata={'token_usage': {'completion_tokens': 43, 'prompt_tokens': 3099, 'total_tokens': 3142, 'completion_time': 0.035833333, 'prompt_time': 0.384918396, 'queue_time': 0.23655826199999996, 'total_time': 0.420751729}, 'model_name': 'llama3-8b-8192', 'system_fingerprint': 'fp_a97cfe35ae', 'finish_reason': 'stop', 'logprobs': None}, id='run-e34c9667-537d-484b-8876-83d8320bd800-0', usage_metadata={'input_tokens': 3099, 'output_tokens': 43, 'total_tokens': 3142})]}\n",
      "Last message: content='I apologize for the mistake. Here\\'s another attempt:\\n\\n\\'db.users.aggregate([ { \"$match\": {} } ])\\'\\n\\nPlease let me know if this query is valid. If not, I\\'ll try again.' additional_kwargs={} response_metadata={'token_usage': {'completion_tokens': 43, 'prompt_tokens': 3099, 'total_tokens': 3142, 'completion_time': 0.035833333, 'prompt_time': 0.384918396, 'queue_time': 0.23655826199999996, 'total_time': 0.420751729}, 'model_name': 'llama3-8b-8192', 'system_fingerprint': 'fp_a97cfe35ae', 'finish_reason': 'stop', 'logprobs': None} id='run-e34c9667-537d-484b-8876-83d8320bd800-0' usage_metadata={'input_tokens': 3099, 'output_tokens': 43, 'total_tokens': 3142}\n",
      "Last message is a normal message. Continuing the conversation.\n",
      "Checking the given query: {'messages': [HumanMessage(content='how many users are in users collection?', additional_kwargs={}, response_metadata={}, id='256be232-30cd-4ca6-8e0b-d245f0d6f32d'), AIMessage(content='', additional_kwargs={}, response_metadata={}, id='7e2a64ce-ea78-4fe1-b8a2-c0616150fcac', tool_calls=[{'name': 'mongodb_list_collections', 'args': {}, 'id': 'tool_call_id', 'type': 'tool_call'}]), ToolMessage(content='chats, connectionrequests, payments, test_collection, users', id='235e8853-1462-4831-931e-76eb1a909fb0', tool_call_id='tool_call_id'), AIMessage(content='', additional_kwargs={'tool_calls': [{'id': 'call_s8wv', 'function': {'arguments': '{\"collection_names\":\"users\"}', 'name': 'mongodb_schema'}, 'type': 'function'}]}, response_metadata={'token_usage': {'completion_tokens': 34, 'prompt_tokens': 1055, 'total_tokens': 1089, 'completion_time': 0.028333333, 'prompt_time': 0.131515827, 'queue_time': 0.23690932, 'total_time': 0.15984916}, 'model_name': 'llama3-8b-8192', 'system_fingerprint': 'fp_dadc9d6142', 'finish_reason': 'tool_calls', 'logprobs': None}, id='run-c2604aae-a2b8-41f3-9919-f3161059d841-0', tool_calls=[{'name': 'mongodb_schema', 'args': {'collection_names': 'users'}, 'id': 'call_s8wv', 'type': 'tool_call'}], usage_metadata={'input_tokens': 1055, 'output_tokens': 34, 'total_tokens': 1089}), ToolMessage(content='Database name: devTinder\\nCollection name: users\\nSchema from a sample of documents from the collection:\\n_id: ObjectId\\nfirstName: String\\nlastName: String\\nemailId: String\\npassword: String\\nphotoUrl: String\\nskills: Array\\ncreatedAt: Timestamp\\nupdatedAt: Timestamp\\n__v: Number\\n\\n/*\\n3 documents from users collection:\\n[\\n  {\\n    \"_id\": {\\n      \"$oid\": \"66f62472cbc847046e52a2c0\"\\n    },\\n    \"firstName\": \"Saurav\",\\n    \"lastName\": \"Singh\",\\n    \"emailId\": \"ss@gmail.com\",\\n    \"password\": \"$2b$10$l7eBmyvAp.rIpU\",\\n    \"photoUrl\": \"http://dummy.com\",\\n    \"skills\": [],\\n    \"createdAt\": {\\n      \"$date\": \"2024-09-27T03:20:18.509Z\"\\n    },\\n    \"updatedAt\": {\\n      \"$date\": \"2024-09-27T03:20:18.509Z\"\\n    },\\n    \"__v\": 0\\n  },\\n  {\\n    \"_id\": {\\n      \"$oid\": \"66eec283bf081b9c5cb8c96e\"\\n    },\\n    \"firstName\": \"Vibhor\",\\n    \"lastName\": \"J\",\\n    \"emailId\": \"vb@gmail.com\",\\n    \"password\": \"$2b$10$hMCB8xIJxKcr1y\",\\n    \"photoUrl\": \"http://dummy.com\",\\n    \"skills\": [],\\n    \"createdAt\": {\\n      \"$date\": \"2024-09-21T12:56:35.503Z\"\\n    },\\n    \"updatedAt\": {\\n      \"$date\": \"2024-09-26T03:18:45.028Z\"\\n    },\\n    \"__v\": 0\\n  },\\n  {\\n    \"_id\": {\\n      \"$oid\": \"66f62ba0051e3056ef55d9dc\"\\n    },\\n    \"firstName\": \"Shri\",\\n    \"lastName\": \"Nayak\",\\n    \"emailId\": \"sn@gmail.com\",\\n    \"password\": \"$2b$10$BfXiFyhOpA5QFb\",\\n    \"photoUrl\": \"http://dummy.com\",\\n    \"skills\": [],\\n    \"createdAt\": {\\n      \"$date\": \"2024-09-27T03:50:56.197Z\"\\n    },\\n    \"updatedAt\": {\\n      \"$date\": \"2024-09-27T03:50:56.197Z\"\\n    },\\n    \"__v\": 0\\n  }\\n]\\n*/', id='2805df61-3c9c-4200-a11f-2939d23471e2', tool_call_id='call_s8wv'), AIMessage(content='', additional_kwargs={'tool_calls': [{'id': 'call_7r0h', 'function': {'arguments': '{\"query\":\"\\'db.users.aggregate([ { \\\\\"$match\\\\\": { } } ])\\'\"}', 'name': 'query_to_database'}, 'type': 'function'}]}, response_metadata={'token_usage': {'completion_tokens': 52, 'prompt_tokens': 2976, 'total_tokens': 3028, 'completion_time': 0.043333333, 'prompt_time': 0.38991527, 'queue_time': 0.26159059600000006, 'total_time': 0.433248603}, 'model_name': 'llama3-8b-8192', 'system_fingerprint': 'fp_179b0f92c9', 'finish_reason': 'tool_calls', 'logprobs': None}, id='run-dfb72fb0-52ad-4b39-9868-22072929bb3a-0', tool_calls=[{'name': 'query_to_database', 'args': {'query': '\\'db.users.aggregate([ { \"$match\": { } } ])\\''}, 'id': 'call_7r0h', 'type': 'tool_call'}], usage_metadata={'input_tokens': 2976, 'output_tokens': 52, 'total_tokens': 3028}), ToolMessage(content='Error: The tool query_to_database is not valid. Please fix your mistakes. \\n                        Remember to only call SubmitFinalAnswer to submit the final answer. \\n                        Generated queries should be outputted WITHOUT a tool call.', id='ffa3d427-fc15-46d1-968e-e445f9f72e0f', tool_call_id='call_7r0h'), AIMessage(content='I apologize for the mistake. Here\\'s another attempt:\\n\\n\\'db.users.aggregate([ { \"$match\": {} } ])\\'\\n\\nPlease let me know if this query is valid. If not, I\\'ll try again.', additional_kwargs={}, response_metadata={'token_usage': {'completion_tokens': 43, 'prompt_tokens': 3099, 'total_tokens': 3142, 'completion_time': 0.035833333, 'prompt_time': 0.384918396, 'queue_time': 0.23655826199999996, 'total_time': 0.420751729}, 'model_name': 'llama3-8b-8192', 'system_fingerprint': 'fp_a97cfe35ae', 'finish_reason': 'stop', 'logprobs': None}, id='run-e34c9667-537d-484b-8876-83d8320bd800-0', usage_metadata={'input_tokens': 3099, 'output_tokens': 43, 'total_tokens': 3142})]}\n"
     ]
    },
    {
     "ename": "BadRequestError",
     "evalue": "Error code: 400 - {'error': {'message': \"Failed to call a function. Please adjust your prompt. See 'failed_generation' for more details.\", 'type': 'invalid_request_error', 'code': 'tool_use_failed', 'failed_generation': '<tool-use>\\n{\\n    \"tool_calls\": [\\n        {\\n            \"id\": \"pending\",\\n            \"type\": \"function\",\\n            \"function\": {\\n                \"name\": \"query_to_database\",\\n                \"parameters\": {\\n                    \"query\": \"\\'db.users.aggregate([ { \\\\\"$match\\\\\": { \\\\\"firstName\\\\\": \\\\\"Rohan\\\\\" } } ])\\'\"\\n                }\\n            }\\n        }\\n    ]\\n}\\n</tool-use>'}}",
     "output_type": "error",
     "traceback": [
      "\u001b[31m---------------------------------------------------------------------------\u001b[39m",
      "\u001b[31mBadRequestError\u001b[39m                           Traceback (most recent call last)",
      "\u001b[36mCell\u001b[39m\u001b[36m \u001b[39m\u001b[32mIn[300]\u001b[39m\u001b[32m, line 9\u001b[39m\n\u001b[32m      1\u001b[39m \u001b[38;5;28;01mfrom\u001b[39;00m\u001b[38;5;250m \u001b[39m\u001b[34;01mlangchain_core\u001b[39;00m\u001b[34;01m.\u001b[39;00m\u001b[34;01mmessages\u001b[39;00m\u001b[38;5;250m \u001b[39m\u001b[38;5;28;01mimport\u001b[39;00m HumanMessage\n\u001b[32m      3\u001b[39m query = {\n\u001b[32m      4\u001b[39m     \u001b[33m\"\u001b[39m\u001b[33mmessages\u001b[39m\u001b[33m\"\u001b[39m: [\n\u001b[32m      5\u001b[39m         HumanMessage(content=\u001b[33m\"\u001b[39m\u001b[33mhow many users are in users collection?\u001b[39m\u001b[33m\"\u001b[39m)\n\u001b[32m      6\u001b[39m     ]\n\u001b[32m      7\u001b[39m }\n\u001b[32m----> \u001b[39m\u001b[32m9\u001b[39m response=\u001b[43mapp\u001b[49m\u001b[43m.\u001b[49m\u001b[43minvoke\u001b[49m\u001b[43m(\u001b[49m\u001b[43mquery\u001b[49m\u001b[43m)\u001b[49m\n",
      "\u001b[36mFile \u001b[39m\u001b[32m~/Documents/projects/python/venv/lib/python3.13/site-packages/langgraph/pregel/__init__.py:2718\u001b[39m, in \u001b[36minvoke\u001b[39m\u001b[34m(self, input, config, stream_mode, output_keys, interrupt_before, interrupt_after, checkpoint_during, debug, **kwargs)\u001b[39m\n\u001b[32m      0\u001b[39m <Error retrieving source code with stack_data see ipython/ipython#13598>\n",
      "\u001b[36mFile \u001b[39m\u001b[32m~/Documents/projects/python/venv/lib/python3.13/site-packages/langgraph/pregel/__init__.py:2356\u001b[39m, in \u001b[36mstream\u001b[39m\u001b[34m(self, input, config, stream_mode, output_keys, interrupt_before, interrupt_after, checkpoint_during, debug, subgraphs)\u001b[39m\n\u001b[32m      0\u001b[39m <Error retrieving source code with stack_data see ipython/ipython#13598>\n",
      "\u001b[36mCell\u001b[39m\u001b[36m \u001b[39m\u001b[32mIn[292]\u001b[39m\u001b[32m, line 12\u001b[39m, in \u001b[36mcheck_the_given_query\u001b[39m\u001b[34m(state)\u001b[39m\n\u001b[32m      6\u001b[39m \u001b[38;5;28mprint\u001b[39m(\u001b[33mf\u001b[39m\u001b[33m\"\u001b[39m\u001b[33mChecking the given query: \u001b[39m\u001b[38;5;132;01m{\u001b[39;00mstate\u001b[38;5;132;01m}\u001b[39;00m\u001b[33m\"\u001b[39m)\n\u001b[32m      8\u001b[39m \u001b[38;5;250m\u001b[39m\u001b[33;03m\"\"\"\u001b[39;00m\n\u001b[32m      9\u001b[39m \u001b[33;03mIt invokes method on check_generated_query, passing in a dictionary that contains the last message from the state object.\u001b[39;00m\n\u001b[32m     10\u001b[39m \u001b[33;03mstate[\"messages\"][-1] retrieves the most recent message in the conversation, which is likely the Mongodb query that needs to be checked.\u001b[39;00m\n\u001b[32m     11\u001b[39m \u001b[33;03m\"\"\"\u001b[39;00m\n\u001b[32m---> \u001b[39m\u001b[32m12\u001b[39m \u001b[38;5;28;01mreturn\u001b[39;00m {\u001b[33m\"\u001b[39m\u001b[33mmessages\u001b[39m\u001b[33m\"\u001b[39m: [\u001b[43mcheck_generated_query\u001b[49m\u001b[43m.\u001b[49m\u001b[43minvoke\u001b[49m\u001b[43m(\u001b[49m\u001b[43m{\u001b[49m\u001b[33;43m\"\u001b[39;49m\u001b[33;43mmessages\u001b[39;49m\u001b[33;43m\"\u001b[39;49m\u001b[43m:\u001b[49m\u001b[43m \u001b[49m\u001b[43m[\u001b[49m\u001b[43mstate\u001b[49m\u001b[43m[\u001b[49m\u001b[33;43m\"\u001b[39;49m\u001b[33;43mmessages\u001b[39;49m\u001b[33;43m\"\u001b[39;49m\u001b[43m]\u001b[49m\u001b[43m[\u001b[49m\u001b[43m-\u001b[49m\u001b[32;43m1\u001b[39;49m\u001b[43m]\u001b[49m\u001b[43m]\u001b[49m\u001b[43m}\u001b[49m\u001b[43m)\u001b[49m]}\n",
      "\u001b[36mFile \u001b[39m\u001b[32m~/Documents/projects/python/venv/lib/python3.13/site-packages/langchain_core/runnables/base.py:3047\u001b[39m, in \u001b[36minvoke\u001b[39m\u001b[34m(self, input, config, **kwargs)\u001b[39m\n\u001b[32m   3036\u001b[39m \u001b[38;5;28;01mdef\u001b[39;00m\u001b[38;5;250m \u001b[39m\u001b[34mget_input_schema\u001b[39m(\n\u001b[32m   3037\u001b[39m     \u001b[38;5;28mself\u001b[39m, config: Optional[RunnableConfig] = \u001b[38;5;28;01mNone\u001b[39;00m\n\u001b[32m   3038\u001b[39m ) -> Type[BaseModel]:\n\u001b[32m   3039\u001b[39m     \u001b[38;5;28;01mif\u001b[39;00m \u001b[38;5;28mall\u001b[39m(\n\u001b[32m   3040\u001b[39m         s.get_input_schema(config).schema().get(\u001b[33m\"\u001b[39m\u001b[33mtype\u001b[39m\u001b[33m\"\u001b[39m, \u001b[33m\"\u001b[39m\u001b[33mobject\u001b[39m\u001b[33m\"\u001b[39m) == \u001b[33m\"\u001b[39m\u001b[33mobject\u001b[39m\u001b[33m\"\u001b[39m\n\u001b[32m   3041\u001b[39m         \u001b[38;5;28;01mfor\u001b[39;00m s \u001b[38;5;129;01min\u001b[39;00m \u001b[38;5;28mself\u001b[39m.steps__.values()\n\u001b[32m   3042\u001b[39m     ):\n\u001b[32m   3043\u001b[39m         \u001b[38;5;66;03m# This is correct, but pydantic typings/mypy don't think so.\u001b[39;00m\n\u001b[32m   3044\u001b[39m         \u001b[38;5;28;01mreturn\u001b[39;00m create_model(  \u001b[38;5;66;03m# type: ignore[call-overload]\u001b[39;00m\n\u001b[32m   3045\u001b[39m             \u001b[38;5;28mself\u001b[39m.get_name(\u001b[33m\"\u001b[39m\u001b[33mInput\u001b[39m\u001b[33m\"\u001b[39m),\n\u001b[32m   3046\u001b[39m             **{\n\u001b[32m-> \u001b[39m\u001b[32m3047\u001b[39m                 k: (v.annotation, v.default)\n\u001b[32m   3048\u001b[39m                 \u001b[38;5;28;01mfor\u001b[39;00m step \u001b[38;5;129;01min\u001b[39;00m \u001b[38;5;28mself\u001b[39m.steps__.values()\n\u001b[32m   3049\u001b[39m                 \u001b[38;5;28;01mfor\u001b[39;00m k, v \u001b[38;5;129;01min\u001b[39;00m step.get_input_schema(config).__fields__.items()\n\u001b[32m   3050\u001b[39m                 \u001b[38;5;28;01mif\u001b[39;00m k != \u001b[33m\"\u001b[39m\u001b[33m__root__\u001b[39m\u001b[33m\"\u001b[39m\n\u001b[32m   3051\u001b[39m             },\n\u001b[32m   3052\u001b[39m         )\n\u001b[32m   3054\u001b[39m     \u001b[38;5;28;01mreturn\u001b[39;00m \u001b[38;5;28msuper\u001b[39m().get_input_schema(config)\n",
      "\u001b[36mFile \u001b[39m\u001b[32m~/Documents/projects/python/venv/lib/python3.13/site-packages/langchain_core/runnables/base.py:5440\u001b[39m, in \u001b[36minvoke\u001b[39m\u001b[34m(self, input, config, **kwargs)\u001b[39m\n\u001b[32m      0\u001b[39m <Error retrieving source code with stack_data see ipython/ipython#13598>\n",
      "\u001b[36mFile \u001b[39m\u001b[32m~/Documents/projects/python/venv/lib/python3.13/site-packages/langchain_core/language_models/chat_models.py:331\u001b[39m, in \u001b[36minvoke\u001b[39m\u001b[34m(self, input, config, stop, **kwargs)\u001b[39m\n\u001b[32m    327\u001b[39m \u001b[38;5;28;01mdef\u001b[39;00m\u001b[38;5;250m \u001b[39m\u001b[34m_combine_llm_outputs\u001b[39m(\u001b[38;5;28mself\u001b[39m, llm_outputs: List[Optional[\u001b[38;5;28mdict\u001b[39m]]) -> \u001b[38;5;28mdict\u001b[39m:\n\u001b[32m    328\u001b[39m     \u001b[38;5;28;01mreturn\u001b[39;00m {}\n\u001b[32m    330\u001b[39m \u001b[38;5;28;01mdef\u001b[39;00m\u001b[38;5;250m \u001b[39m\u001b[34m_get_invocation_params\u001b[39m(\n\u001b[32m--> \u001b[39m\u001b[32m331\u001b[39m     \u001b[38;5;28mself\u001b[39m,\n\u001b[32m    332\u001b[39m     stop: Optional[List[\u001b[38;5;28mstr\u001b[39m]] = \u001b[38;5;28;01mNone\u001b[39;00m,\n\u001b[32m    333\u001b[39m     **kwargs: Any,\n\u001b[32m    334\u001b[39m ) -> \u001b[38;5;28mdict\u001b[39m:\n\u001b[32m    335\u001b[39m     params = \u001b[38;5;28mself\u001b[39m.dict()\n\u001b[32m    336\u001b[39m     params[\u001b[33m\"\u001b[39m\u001b[33mstop\u001b[39m\u001b[33m\"\u001b[39m] = stop\n",
      "\u001b[36mFile \u001b[39m\u001b[32m~/Documents/projects/python/venv/lib/python3.13/site-packages/langchain_core/language_models/chat_models.py:894\u001b[39m, in \u001b[36mgenerate_prompt\u001b[39m\u001b[34m(self, prompts, stop, callbacks, **kwargs)\u001b[39m\n\u001b[32m    892\u001b[39m \u001b[38;5;28;01melse\u001b[39;00m:\n\u001b[32m    893\u001b[39m     _stop = \u001b[38;5;28mlist\u001b[39m(stop)\n\u001b[32m--> \u001b[39m\u001b[32m894\u001b[39m \u001b[38;5;28;01mreturn\u001b[39;00m \u001b[38;5;28;01mawait\u001b[39;00m \u001b[38;5;28mself\u001b[39m._call_async(messages, stop=_stop, **kwargs)\n",
      "\u001b[36mFile \u001b[39m\u001b[32m~/Documents/projects/python/venv/lib/python3.13/site-packages/langchain_core/language_models/chat_models.py:719\u001b[39m, in \u001b[36mgenerate\u001b[39m\u001b[34m(self, messages, stop, callbacks, tags, metadata, run_name, run_id, **kwargs)\u001b[39m\n\u001b[32m    715\u001b[39m         result = \u001b[38;5;28;01mawait\u001b[39;00m \u001b[38;5;28mself\u001b[39m._agenerate(\n\u001b[32m    716\u001b[39m             messages, stop=stop, run_manager=run_manager, **kwargs\n\u001b[32m    717\u001b[39m         )\n\u001b[32m    718\u001b[39m     \u001b[38;5;28;01melse\u001b[39;00m:\n\u001b[32m--> \u001b[39m\u001b[32m719\u001b[39m         result = \u001b[38;5;28;01mawait\u001b[39;00m \u001b[38;5;28mself\u001b[39m._agenerate(messages, stop=stop, **kwargs)\n\u001b[32m    721\u001b[39m \u001b[38;5;66;03m# Add response metadata to each generation\u001b[39;00m\n\u001b[32m    722\u001b[39m \u001b[38;5;28;01mfor\u001b[39;00m idx, generation \u001b[38;5;129;01min\u001b[39;00m \u001b[38;5;28menumerate\u001b[39m(result.generations):\n",
      "\u001b[36mFile \u001b[39m\u001b[32m~/Documents/projects/python/venv/lib/python3.13/site-packages/langchain_core/language_models/chat_models.py:960\u001b[39m, in \u001b[36m_generate_with_cache\u001b[39m\u001b[34m(self, messages, stop, run_manager, **kwargs)\u001b[39m\n\u001b[32m    957\u001b[39m \u001b[38;5;28;01mdef\u001b[39;00m\u001b[38;5;250m \u001b[39m\u001b[34m_gen_info_and_msg_metadata\u001b[39m(\n\u001b[32m    958\u001b[39m     generation: Union[ChatGeneration, ChatGenerationChunk],\n\u001b[32m    959\u001b[39m ) -> \u001b[38;5;28mdict\u001b[39m:\n\u001b[32m--> \u001b[39m\u001b[32m960\u001b[39m     \u001b[38;5;28;01mreturn\u001b[39;00m {\n\u001b[32m    961\u001b[39m         **(generation.generation_info \u001b[38;5;129;01mor\u001b[39;00m {}),\n\u001b[32m    962\u001b[39m         **generation.message.response_metadata,\n\u001b[32m    963\u001b[39m     }\n",
      "\u001b[36mFile \u001b[39m\u001b[32m~/Documents/projects/python/venv/lib/python3.13/site-packages/langchain_groq/chat_models.py:498\u001b[39m, in \u001b[36mChatGroq._generate\u001b[39m\u001b[34m(self, messages, stop, run_manager, **kwargs)\u001b[39m\n\u001b[32m    493\u001b[39m message_dicts, params = \u001b[38;5;28mself\u001b[39m._create_message_dicts(messages, stop)\n\u001b[32m    494\u001b[39m params = {\n\u001b[32m    495\u001b[39m     **params,\n\u001b[32m    496\u001b[39m     **kwargs,\n\u001b[32m    497\u001b[39m }\n\u001b[32m--> \u001b[39m\u001b[32m498\u001b[39m response = \u001b[38;5;28;43mself\u001b[39;49m\u001b[43m.\u001b[49m\u001b[43mclient\u001b[49m\u001b[43m.\u001b[49m\u001b[43mcreate\u001b[49m\u001b[43m(\u001b[49m\u001b[43mmessages\u001b[49m\u001b[43m=\u001b[49m\u001b[43mmessage_dicts\u001b[49m\u001b[43m,\u001b[49m\u001b[43m \u001b[49m\u001b[43m*\u001b[49m\u001b[43m*\u001b[49m\u001b[43mparams\u001b[49m\u001b[43m)\u001b[49m\n\u001b[32m    499\u001b[39m \u001b[38;5;28;01mreturn\u001b[39;00m \u001b[38;5;28mself\u001b[39m._create_chat_result(response)\n",
      "\u001b[36mFile \u001b[39m\u001b[32m~/Documents/projects/python/venv/lib/python3.13/site-packages/groq/resources/chat/completions.py:322\u001b[39m, in \u001b[36mCompletions.create\u001b[39m\u001b[34m(self, messages, model, frequency_penalty, function_call, functions, logit_bias, logprobs, max_completion_tokens, max_tokens, n, parallel_tool_calls, presence_penalty, reasoning_format, response_format, seed, service_tier, stop, stream, temperature, tool_choice, tools, top_logprobs, top_p, user, extra_headers, extra_query, extra_body, timeout)\u001b[39m\n\u001b[32m    166\u001b[39m \u001b[38;5;28;01mdef\u001b[39;00m\u001b[38;5;250m \u001b[39m\u001b[34mcreate\u001b[39m(\n\u001b[32m    167\u001b[39m     \u001b[38;5;28mself\u001b[39m,\n\u001b[32m    168\u001b[39m     *,\n\u001b[32m   (...)\u001b[39m\u001b[32m    198\u001b[39m     timeout: \u001b[38;5;28mfloat\u001b[39m | httpx.Timeout | \u001b[38;5;28;01mNone\u001b[39;00m | NotGiven = NOT_GIVEN,\n\u001b[32m    199\u001b[39m ) -> ChatCompletion | Stream[ChatCompletionChunk]:\n\u001b[32m    200\u001b[39m \u001b[38;5;250m    \u001b[39m\u001b[33;03m\"\"\"\u001b[39;00m\n\u001b[32m    201\u001b[39m \u001b[33;03m    Creates a model response for the given chat conversation.\u001b[39;00m\n\u001b[32m    202\u001b[39m \n\u001b[32m   (...)\u001b[39m\u001b[32m    320\u001b[39m \u001b[33;03m      timeout: Override the client-level default timeout for this request, in seconds\u001b[39;00m\n\u001b[32m    321\u001b[39m \u001b[33;03m    \"\"\"\u001b[39;00m\n\u001b[32m--> \u001b[39m\u001b[32m322\u001b[39m     \u001b[38;5;28;01mreturn\u001b[39;00m \u001b[38;5;28;43mself\u001b[39;49m\u001b[43m.\u001b[49m\u001b[43m_post\u001b[49m\u001b[43m(\u001b[49m\n\u001b[32m    323\u001b[39m \u001b[43m        \u001b[49m\u001b[33;43m\"\u001b[39;49m\u001b[33;43m/openai/v1/chat/completions\u001b[39;49m\u001b[33;43m\"\u001b[39;49m\u001b[43m,\u001b[49m\n\u001b[32m    324\u001b[39m \u001b[43m        \u001b[49m\u001b[43mbody\u001b[49m\u001b[43m=\u001b[49m\u001b[43mmaybe_transform\u001b[49m\u001b[43m(\u001b[49m\n\u001b[32m    325\u001b[39m \u001b[43m            \u001b[49m\u001b[43m{\u001b[49m\n\u001b[32m    326\u001b[39m \u001b[43m                \u001b[49m\u001b[33;43m\"\u001b[39;49m\u001b[33;43mmessages\u001b[39;49m\u001b[33;43m\"\u001b[39;49m\u001b[43m:\u001b[49m\u001b[43m \u001b[49m\u001b[43mmessages\u001b[49m\u001b[43m,\u001b[49m\n\u001b[32m    327\u001b[39m \u001b[43m                \u001b[49m\u001b[33;43m\"\u001b[39;49m\u001b[33;43mmodel\u001b[39;49m\u001b[33;43m\"\u001b[39;49m\u001b[43m:\u001b[49m\u001b[43m \u001b[49m\u001b[43mmodel\u001b[49m\u001b[43m,\u001b[49m\n\u001b[32m    328\u001b[39m \u001b[43m                \u001b[49m\u001b[33;43m\"\u001b[39;49m\u001b[33;43mfrequency_penalty\u001b[39;49m\u001b[33;43m\"\u001b[39;49m\u001b[43m:\u001b[49m\u001b[43m \u001b[49m\u001b[43mfrequency_penalty\u001b[49m\u001b[43m,\u001b[49m\n\u001b[32m    329\u001b[39m \u001b[43m                \u001b[49m\u001b[33;43m\"\u001b[39;49m\u001b[33;43mfunction_call\u001b[39;49m\u001b[33;43m\"\u001b[39;49m\u001b[43m:\u001b[49m\u001b[43m \u001b[49m\u001b[43mfunction_call\u001b[49m\u001b[43m,\u001b[49m\n\u001b[32m    330\u001b[39m \u001b[43m                \u001b[49m\u001b[33;43m\"\u001b[39;49m\u001b[33;43mfunctions\u001b[39;49m\u001b[33;43m\"\u001b[39;49m\u001b[43m:\u001b[49m\u001b[43m \u001b[49m\u001b[43mfunctions\u001b[49m\u001b[43m,\u001b[49m\n\u001b[32m    331\u001b[39m \u001b[43m                \u001b[49m\u001b[33;43m\"\u001b[39;49m\u001b[33;43mlogit_bias\u001b[39;49m\u001b[33;43m\"\u001b[39;49m\u001b[43m:\u001b[49m\u001b[43m \u001b[49m\u001b[43mlogit_bias\u001b[49m\u001b[43m,\u001b[49m\n\u001b[32m    332\u001b[39m \u001b[43m                \u001b[49m\u001b[33;43m\"\u001b[39;49m\u001b[33;43mlogprobs\u001b[39;49m\u001b[33;43m\"\u001b[39;49m\u001b[43m:\u001b[49m\u001b[43m \u001b[49m\u001b[43mlogprobs\u001b[49m\u001b[43m,\u001b[49m\n\u001b[32m    333\u001b[39m \u001b[43m                \u001b[49m\u001b[33;43m\"\u001b[39;49m\u001b[33;43mmax_completion_tokens\u001b[39;49m\u001b[33;43m\"\u001b[39;49m\u001b[43m:\u001b[49m\u001b[43m \u001b[49m\u001b[43mmax_completion_tokens\u001b[49m\u001b[43m,\u001b[49m\n\u001b[32m    334\u001b[39m \u001b[43m                \u001b[49m\u001b[33;43m\"\u001b[39;49m\u001b[33;43mmax_tokens\u001b[39;49m\u001b[33;43m\"\u001b[39;49m\u001b[43m:\u001b[49m\u001b[43m \u001b[49m\u001b[43mmax_tokens\u001b[49m\u001b[43m,\u001b[49m\n\u001b[32m    335\u001b[39m \u001b[43m                \u001b[49m\u001b[33;43m\"\u001b[39;49m\u001b[33;43mn\u001b[39;49m\u001b[33;43m\"\u001b[39;49m\u001b[43m:\u001b[49m\u001b[43m \u001b[49m\u001b[43mn\u001b[49m\u001b[43m,\u001b[49m\n\u001b[32m    336\u001b[39m \u001b[43m                \u001b[49m\u001b[33;43m\"\u001b[39;49m\u001b[33;43mparallel_tool_calls\u001b[39;49m\u001b[33;43m\"\u001b[39;49m\u001b[43m:\u001b[49m\u001b[43m \u001b[49m\u001b[43mparallel_tool_calls\u001b[49m\u001b[43m,\u001b[49m\n\u001b[32m    337\u001b[39m \u001b[43m                \u001b[49m\u001b[33;43m\"\u001b[39;49m\u001b[33;43mpresence_penalty\u001b[39;49m\u001b[33;43m\"\u001b[39;49m\u001b[43m:\u001b[49m\u001b[43m \u001b[49m\u001b[43mpresence_penalty\u001b[49m\u001b[43m,\u001b[49m\n\u001b[32m    338\u001b[39m \u001b[43m                \u001b[49m\u001b[33;43m\"\u001b[39;49m\u001b[33;43mreasoning_format\u001b[39;49m\u001b[33;43m\"\u001b[39;49m\u001b[43m:\u001b[49m\u001b[43m \u001b[49m\u001b[43mreasoning_format\u001b[49m\u001b[43m,\u001b[49m\n\u001b[32m    339\u001b[39m \u001b[43m                \u001b[49m\u001b[33;43m\"\u001b[39;49m\u001b[33;43mresponse_format\u001b[39;49m\u001b[33;43m\"\u001b[39;49m\u001b[43m:\u001b[49m\u001b[43m \u001b[49m\u001b[43mresponse_format\u001b[49m\u001b[43m,\u001b[49m\n\u001b[32m    340\u001b[39m \u001b[43m                \u001b[49m\u001b[33;43m\"\u001b[39;49m\u001b[33;43mseed\u001b[39;49m\u001b[33;43m\"\u001b[39;49m\u001b[43m:\u001b[49m\u001b[43m \u001b[49m\u001b[43mseed\u001b[49m\u001b[43m,\u001b[49m\n\u001b[32m    341\u001b[39m \u001b[43m                \u001b[49m\u001b[33;43m\"\u001b[39;49m\u001b[33;43mservice_tier\u001b[39;49m\u001b[33;43m\"\u001b[39;49m\u001b[43m:\u001b[49m\u001b[43m \u001b[49m\u001b[43mservice_tier\u001b[49m\u001b[43m,\u001b[49m\n\u001b[32m    342\u001b[39m \u001b[43m                \u001b[49m\u001b[33;43m\"\u001b[39;49m\u001b[33;43mstop\u001b[39;49m\u001b[33;43m\"\u001b[39;49m\u001b[43m:\u001b[49m\u001b[43m \u001b[49m\u001b[43mstop\u001b[49m\u001b[43m,\u001b[49m\n\u001b[32m    343\u001b[39m \u001b[43m                \u001b[49m\u001b[33;43m\"\u001b[39;49m\u001b[33;43mstream\u001b[39;49m\u001b[33;43m\"\u001b[39;49m\u001b[43m:\u001b[49m\u001b[43m \u001b[49m\u001b[43mstream\u001b[49m\u001b[43m,\u001b[49m\n\u001b[32m    344\u001b[39m \u001b[43m                \u001b[49m\u001b[33;43m\"\u001b[39;49m\u001b[33;43mtemperature\u001b[39;49m\u001b[33;43m\"\u001b[39;49m\u001b[43m:\u001b[49m\u001b[43m \u001b[49m\u001b[43mtemperature\u001b[49m\u001b[43m,\u001b[49m\n\u001b[32m    345\u001b[39m \u001b[43m                \u001b[49m\u001b[33;43m\"\u001b[39;49m\u001b[33;43mtool_choice\u001b[39;49m\u001b[33;43m\"\u001b[39;49m\u001b[43m:\u001b[49m\u001b[43m \u001b[49m\u001b[43mtool_choice\u001b[49m\u001b[43m,\u001b[49m\n\u001b[32m    346\u001b[39m \u001b[43m                \u001b[49m\u001b[33;43m\"\u001b[39;49m\u001b[33;43mtools\u001b[39;49m\u001b[33;43m\"\u001b[39;49m\u001b[43m:\u001b[49m\u001b[43m \u001b[49m\u001b[43mtools\u001b[49m\u001b[43m,\u001b[49m\n\u001b[32m    347\u001b[39m \u001b[43m                \u001b[49m\u001b[33;43m\"\u001b[39;49m\u001b[33;43mtop_logprobs\u001b[39;49m\u001b[33;43m\"\u001b[39;49m\u001b[43m:\u001b[49m\u001b[43m \u001b[49m\u001b[43mtop_logprobs\u001b[49m\u001b[43m,\u001b[49m\n\u001b[32m    348\u001b[39m \u001b[43m                \u001b[49m\u001b[33;43m\"\u001b[39;49m\u001b[33;43mtop_p\u001b[39;49m\u001b[33;43m\"\u001b[39;49m\u001b[43m:\u001b[49m\u001b[43m \u001b[49m\u001b[43mtop_p\u001b[49m\u001b[43m,\u001b[49m\n\u001b[32m    349\u001b[39m \u001b[43m                \u001b[49m\u001b[33;43m\"\u001b[39;49m\u001b[33;43muser\u001b[39;49m\u001b[33;43m\"\u001b[39;49m\u001b[43m:\u001b[49m\u001b[43m \u001b[49m\u001b[43muser\u001b[49m\u001b[43m,\u001b[49m\n\u001b[32m    350\u001b[39m \u001b[43m            \u001b[49m\u001b[43m}\u001b[49m\u001b[43m,\u001b[49m\n\u001b[32m    351\u001b[39m \u001b[43m            \u001b[49m\u001b[43mcompletion_create_params\u001b[49m\u001b[43m.\u001b[49m\u001b[43mCompletionCreateParams\u001b[49m\u001b[43m,\u001b[49m\n\u001b[32m    352\u001b[39m \u001b[43m        \u001b[49m\u001b[43m)\u001b[49m\u001b[43m,\u001b[49m\n\u001b[32m    353\u001b[39m \u001b[43m        \u001b[49m\u001b[43moptions\u001b[49m\u001b[43m=\u001b[49m\u001b[43mmake_request_options\u001b[49m\u001b[43m(\u001b[49m\n\u001b[32m    354\u001b[39m \u001b[43m            \u001b[49m\u001b[43mextra_headers\u001b[49m\u001b[43m=\u001b[49m\u001b[43mextra_headers\u001b[49m\u001b[43m,\u001b[49m\u001b[43m \u001b[49m\u001b[43mextra_query\u001b[49m\u001b[43m=\u001b[49m\u001b[43mextra_query\u001b[49m\u001b[43m,\u001b[49m\u001b[43m \u001b[49m\u001b[43mextra_body\u001b[49m\u001b[43m=\u001b[49m\u001b[43mextra_body\u001b[49m\u001b[43m,\u001b[49m\u001b[43m \u001b[49m\u001b[43mtimeout\u001b[49m\u001b[43m=\u001b[49m\u001b[43mtimeout\u001b[49m\n\u001b[32m    355\u001b[39m \u001b[43m        \u001b[49m\u001b[43m)\u001b[49m\u001b[43m,\u001b[49m\n\u001b[32m    356\u001b[39m \u001b[43m        \u001b[49m\u001b[43mcast_to\u001b[49m\u001b[43m=\u001b[49m\u001b[43mChatCompletion\u001b[49m\u001b[43m,\u001b[49m\n\u001b[32m    357\u001b[39m \u001b[43m        \u001b[49m\u001b[43mstream\u001b[49m\u001b[43m=\u001b[49m\u001b[43mstream\u001b[49m\u001b[43m \u001b[49m\u001b[38;5;129;43;01mor\u001b[39;49;00m\u001b[43m \u001b[49m\u001b[38;5;28;43;01mFalse\u001b[39;49;00m\u001b[43m,\u001b[49m\n\u001b[32m    358\u001b[39m \u001b[43m        \u001b[49m\u001b[43mstream_cls\u001b[49m\u001b[43m=\u001b[49m\u001b[43mStream\u001b[49m\u001b[43m[\u001b[49m\u001b[43mChatCompletionChunk\u001b[49m\u001b[43m]\u001b[49m\u001b[43m,\u001b[49m\n\u001b[32m    359\u001b[39m \u001b[43m    \u001b[49m\u001b[43m)\u001b[49m\n",
      "\u001b[36mFile \u001b[39m\u001b[32m~/Documents/projects/python/venv/lib/python3.13/site-packages/groq/_base_client.py:1225\u001b[39m, in \u001b[36mSyncAPIClient.post\u001b[39m\u001b[34m(self, path, cast_to, body, options, files, stream, stream_cls)\u001b[39m\n\u001b[32m   1211\u001b[39m \u001b[38;5;28;01mdef\u001b[39;00m\u001b[38;5;250m \u001b[39m\u001b[34mpost\u001b[39m(\n\u001b[32m   1212\u001b[39m     \u001b[38;5;28mself\u001b[39m,\n\u001b[32m   1213\u001b[39m     path: \u001b[38;5;28mstr\u001b[39m,\n\u001b[32m   (...)\u001b[39m\u001b[32m   1220\u001b[39m     stream_cls: \u001b[38;5;28mtype\u001b[39m[_StreamT] | \u001b[38;5;28;01mNone\u001b[39;00m = \u001b[38;5;28;01mNone\u001b[39;00m,\n\u001b[32m   1221\u001b[39m ) -> ResponseT | _StreamT:\n\u001b[32m   1222\u001b[39m     opts = FinalRequestOptions.construct(\n\u001b[32m   1223\u001b[39m         method=\u001b[33m\"\u001b[39m\u001b[33mpost\u001b[39m\u001b[33m\"\u001b[39m, url=path, json_data=body, files=to_httpx_files(files), **options\n\u001b[32m   1224\u001b[39m     )\n\u001b[32m-> \u001b[39m\u001b[32m1225\u001b[39m     \u001b[38;5;28;01mreturn\u001b[39;00m cast(ResponseT, \u001b[38;5;28;43mself\u001b[39;49m\u001b[43m.\u001b[49m\u001b[43mrequest\u001b[49m\u001b[43m(\u001b[49m\u001b[43mcast_to\u001b[49m\u001b[43m,\u001b[49m\u001b[43m \u001b[49m\u001b[43mopts\u001b[49m\u001b[43m,\u001b[49m\u001b[43m \u001b[49m\u001b[43mstream\u001b[49m\u001b[43m=\u001b[49m\u001b[43mstream\u001b[49m\u001b[43m,\u001b[49m\u001b[43m \u001b[49m\u001b[43mstream_cls\u001b[49m\u001b[43m=\u001b[49m\u001b[43mstream_cls\u001b[49m\u001b[43m)\u001b[49m)\n",
      "\u001b[36mFile \u001b[39m\u001b[32m~/Documents/projects/python/venv/lib/python3.13/site-packages/groq/_base_client.py:917\u001b[39m, in \u001b[36mSyncAPIClient.request\u001b[39m\u001b[34m(self, cast_to, options, remaining_retries, stream, stream_cls)\u001b[39m\n\u001b[32m    914\u001b[39m \u001b[38;5;28;01melse\u001b[39;00m:\n\u001b[32m    915\u001b[39m     retries_taken = \u001b[32m0\u001b[39m\n\u001b[32m--> \u001b[39m\u001b[32m917\u001b[39m \u001b[38;5;28;01mreturn\u001b[39;00m \u001b[38;5;28;43mself\u001b[39;49m\u001b[43m.\u001b[49m\u001b[43m_request\u001b[49m\u001b[43m(\u001b[49m\n\u001b[32m    918\u001b[39m \u001b[43m    \u001b[49m\u001b[43mcast_to\u001b[49m\u001b[43m=\u001b[49m\u001b[43mcast_to\u001b[49m\u001b[43m,\u001b[49m\n\u001b[32m    919\u001b[39m \u001b[43m    \u001b[49m\u001b[43moptions\u001b[49m\u001b[43m=\u001b[49m\u001b[43moptions\u001b[49m\u001b[43m,\u001b[49m\n\u001b[32m    920\u001b[39m \u001b[43m    \u001b[49m\u001b[43mstream\u001b[49m\u001b[43m=\u001b[49m\u001b[43mstream\u001b[49m\u001b[43m,\u001b[49m\n\u001b[32m    921\u001b[39m \u001b[43m    \u001b[49m\u001b[43mstream_cls\u001b[49m\u001b[43m=\u001b[49m\u001b[43mstream_cls\u001b[49m\u001b[43m,\u001b[49m\n\u001b[32m    922\u001b[39m \u001b[43m    \u001b[49m\u001b[43mretries_taken\u001b[49m\u001b[43m=\u001b[49m\u001b[43mretries_taken\u001b[49m\u001b[43m,\u001b[49m\n\u001b[32m    923\u001b[39m \u001b[43m\u001b[49m\u001b[43m)\u001b[49m\n",
      "\u001b[36mFile \u001b[39m\u001b[32m~/Documents/projects/python/venv/lib/python3.13/site-packages/groq/_base_client.py:1005\u001b[39m, in \u001b[36mSyncAPIClient._request\u001b[39m\u001b[34m(self, cast_to, options, retries_taken, stream, stream_cls)\u001b[39m\n\u001b[32m   1003\u001b[39m \u001b[38;5;28;01mif\u001b[39;00m remaining_retries > \u001b[32m0\u001b[39m \u001b[38;5;129;01mand\u001b[39;00m \u001b[38;5;28mself\u001b[39m._should_retry(err.response):\n\u001b[32m   1004\u001b[39m     err.response.close()\n\u001b[32m-> \u001b[39m\u001b[32m1005\u001b[39m     \u001b[38;5;28;01mreturn\u001b[39;00m \u001b[38;5;28;43mself\u001b[39;49m\u001b[43m.\u001b[49m\u001b[43m_retry_request\u001b[49m\u001b[43m(\u001b[49m\n\u001b[32m   1006\u001b[39m \u001b[43m        \u001b[49m\u001b[43minput_options\u001b[49m\u001b[43m,\u001b[49m\n\u001b[32m   1007\u001b[39m \u001b[43m        \u001b[49m\u001b[43mcast_to\u001b[49m\u001b[43m,\u001b[49m\n\u001b[32m   1008\u001b[39m \u001b[43m        \u001b[49m\u001b[43mretries_taken\u001b[49m\u001b[43m=\u001b[49m\u001b[43mretries_taken\u001b[49m\u001b[43m,\u001b[49m\n\u001b[32m   1009\u001b[39m \u001b[43m        \u001b[49m\u001b[43mresponse_headers\u001b[49m\u001b[43m=\u001b[49m\u001b[43merr\u001b[49m\u001b[43m.\u001b[49m\u001b[43mresponse\u001b[49m\u001b[43m.\u001b[49m\u001b[43mheaders\u001b[49m\u001b[43m,\u001b[49m\n\u001b[32m   1010\u001b[39m \u001b[43m        \u001b[49m\u001b[43mstream\u001b[49m\u001b[43m=\u001b[49m\u001b[43mstream\u001b[49m\u001b[43m,\u001b[49m\n\u001b[32m   1011\u001b[39m \u001b[43m        \u001b[49m\u001b[43mstream_cls\u001b[49m\u001b[43m=\u001b[49m\u001b[43mstream_cls\u001b[49m\u001b[43m,\u001b[49m\n\u001b[32m   1012\u001b[39m \u001b[43m    \u001b[49m\u001b[43m)\u001b[49m\n\u001b[32m   1014\u001b[39m \u001b[38;5;66;03m# If the response is streamed then we need to explicitly read the response\u001b[39;00m\n\u001b[32m   1015\u001b[39m \u001b[38;5;66;03m# to completion before attempting to access the response text.\u001b[39;00m\n\u001b[32m   1016\u001b[39m \u001b[38;5;28;01mif\u001b[39;00m \u001b[38;5;129;01mnot\u001b[39;00m err.response.is_closed:\n",
      "\u001b[36mFile \u001b[39m\u001b[32m~/Documents/projects/python/venv/lib/python3.13/site-packages/groq/_base_client.py:1054\u001b[39m, in \u001b[36mSyncAPIClient._retry_request\u001b[39m\u001b[34m(self, options, cast_to, retries_taken, response_headers, stream, stream_cls)\u001b[39m\n\u001b[32m   1050\u001b[39m \u001b[38;5;66;03m# In a synchronous context we are blocking the entire thread. Up to the library user to run the client in a\u001b[39;00m\n\u001b[32m   1051\u001b[39m \u001b[38;5;66;03m# different thread if necessary.\u001b[39;00m\n\u001b[32m   1052\u001b[39m time.sleep(timeout)\n\u001b[32m-> \u001b[39m\u001b[32m1054\u001b[39m \u001b[38;5;28;01mreturn\u001b[39;00m \u001b[38;5;28;43mself\u001b[39;49m\u001b[43m.\u001b[49m\u001b[43m_request\u001b[49m\u001b[43m(\u001b[49m\n\u001b[32m   1055\u001b[39m \u001b[43m    \u001b[49m\u001b[43moptions\u001b[49m\u001b[43m=\u001b[49m\u001b[43moptions\u001b[49m\u001b[43m,\u001b[49m\n\u001b[32m   1056\u001b[39m \u001b[43m    \u001b[49m\u001b[43mcast_to\u001b[49m\u001b[43m=\u001b[49m\u001b[43mcast_to\u001b[49m\u001b[43m,\u001b[49m\n\u001b[32m   1057\u001b[39m \u001b[43m    \u001b[49m\u001b[43mretries_taken\u001b[49m\u001b[43m=\u001b[49m\u001b[43mretries_taken\u001b[49m\u001b[43m \u001b[49m\u001b[43m+\u001b[49m\u001b[43m \u001b[49m\u001b[32;43m1\u001b[39;49m\u001b[43m,\u001b[49m\n\u001b[32m   1058\u001b[39m \u001b[43m    \u001b[49m\u001b[43mstream\u001b[49m\u001b[43m=\u001b[49m\u001b[43mstream\u001b[49m\u001b[43m,\u001b[49m\n\u001b[32m   1059\u001b[39m \u001b[43m    \u001b[49m\u001b[43mstream_cls\u001b[49m\u001b[43m=\u001b[49m\u001b[43mstream_cls\u001b[49m\u001b[43m,\u001b[49m\n\u001b[32m   1060\u001b[39m \u001b[43m\u001b[49m\u001b[43m)\u001b[49m\n",
      "\u001b[36mFile \u001b[39m\u001b[32m~/Documents/projects/python/venv/lib/python3.13/site-packages/groq/_base_client.py:1020\u001b[39m, in \u001b[36mSyncAPIClient._request\u001b[39m\u001b[34m(self, cast_to, options, retries_taken, stream, stream_cls)\u001b[39m\n\u001b[32m   1017\u001b[39m         err.response.read()\n\u001b[32m   1019\u001b[39m     log.debug(\u001b[33m\"\u001b[39m\u001b[33mRe-raising status error\u001b[39m\u001b[33m\"\u001b[39m)\n\u001b[32m-> \u001b[39m\u001b[32m1020\u001b[39m     \u001b[38;5;28;01mraise\u001b[39;00m \u001b[38;5;28mself\u001b[39m._make_status_error_from_response(err.response) \u001b[38;5;28;01mfrom\u001b[39;00m\u001b[38;5;250m \u001b[39m\u001b[38;5;28;01mNone\u001b[39;00m\n\u001b[32m   1022\u001b[39m \u001b[38;5;28;01mreturn\u001b[39;00m \u001b[38;5;28mself\u001b[39m._process_response(\n\u001b[32m   1023\u001b[39m     cast_to=cast_to,\n\u001b[32m   1024\u001b[39m     options=options,\n\u001b[32m   (...)\u001b[39m\u001b[32m   1028\u001b[39m     retries_taken=retries_taken,\n\u001b[32m   1029\u001b[39m )\n",
      "\u001b[31mBadRequestError\u001b[39m: Error code: 400 - {'error': {'message': \"Failed to call a function. Please adjust your prompt. See 'failed_generation' for more details.\", 'type': 'invalid_request_error', 'code': 'tool_use_failed', 'failed_generation': '<tool-use>\\n{\\n    \"tool_calls\": [\\n        {\\n            \"id\": \"pending\",\\n            \"type\": \"function\",\\n            \"function\": {\\n                \"name\": \"query_to_database\",\\n                \"parameters\": {\\n                    \"query\": \"\\'db.users.aggregate([ { \\\\\"$match\\\\\": { \\\\\"firstName\\\\\": \\\\\"Rohan\\\\\" } } ])\\'\"\\n                }\\n            }\\n        }\\n    ]\\n}\\n</tool-use>'}}",
      "During task with name 'correct_query' and id '43b1b92d-cd28-a682-d224-0273df23fdbd'"
     ]
    }
   ],
   "source": [
    "from langchain_core.messages import HumanMessage\n",
    "\n",
    "query = {\n",
    "    \"messages\": [\n",
    "        HumanMessage(content=\"how many users are in users collection?\")\n",
    "    ]\n",
    "}\n",
    "\n",
    "response=app.invoke(query)"
   ]
  },
  {
   "cell_type": "code",
   "execution_count": 286,
   "metadata": {},
   "outputs": [
    {
     "data": {
      "text/plain": [
       "'There are 6 users in the users collection'"
      ]
     },
     "execution_count": 286,
     "metadata": {},
     "output_type": "execute_result"
    }
   ],
   "source": [
    "response[\"messages\"][-1].tool_calls[0][\"args\"][\"final_answer\"]"
   ]
  },
  {
   "cell_type": "code",
   "execution_count": null,
   "metadata": {},
   "outputs": [
    {
     "name": "stdout",
     "output_type": "stream",
     "text": [
      "Getting the llm_get_schema: {'messages': [HumanMessage(content='find the user name Rohan Gore from users collection?', additional_kwargs={}, response_metadata={}, id='2357e13c-09da-45b6-966c-b0593126eaf6'), AIMessage(content='', additional_kwargs={}, response_metadata={}, id='55793cc7-3cda-4797-a6fe-8ef83877f856', tool_calls=[{'name': 'mongodb_list_collections', 'args': {}, 'id': 'tool_call_id', 'type': 'tool_call'}]), ToolMessage(content='chats, connectionrequests, payments, test_collection, users', id='3afea25a-6872-4170-8a3f-d74ff128bfbc', tool_call_id='tool_call_id')]}\n",
      "State from should_continue: {'messages': [HumanMessage(content='find the user name Rohan Gore from users collection?', additional_kwargs={}, response_metadata={}, id='2357e13c-09da-45b6-966c-b0593126eaf6'), AIMessage(content='', additional_kwargs={}, response_metadata={}, id='55793cc7-3cda-4797-a6fe-8ef83877f856', tool_calls=[{'name': 'mongodb_list_collections', 'args': {}, 'id': 'tool_call_id', 'type': 'tool_call'}]), ToolMessage(content='chats, connectionrequests, payments, test_collection, users', id='3afea25a-6872-4170-8a3f-d74ff128bfbc', tool_call_id='tool_call_id'), AIMessage(content='', additional_kwargs={'tool_calls': [{'id': 'call_pnxw', 'function': {'arguments': '{\"collection_names\":\"users\"}', 'name': 'mongodb_schema'}, 'type': 'function'}]}, response_metadata={'token_usage': {'completion_tokens': 34, 'prompt_tokens': 1058, 'total_tokens': 1092, 'completion_time': 0.028333333, 'prompt_time': 0.130941599, 'queue_time': 0.23633264900000003, 'total_time': 0.159274932}, 'model_name': 'llama3-8b-8192', 'system_fingerprint': 'fp_dadc9d6142', 'finish_reason': 'tool_calls', 'logprobs': None}, id='run-56b0bd2f-0b17-4d98-a295-60120eec5c72-0', tool_calls=[{'name': 'mongodb_schema', 'args': {'collection_names': 'users'}, 'id': 'call_pnxw', 'type': 'tool_call'}], usage_metadata={'input_tokens': 1058, 'output_tokens': 34, 'total_tokens': 1092}), ToolMessage(content='Database name: devTinder\\nCollection name: users\\nSchema from a sample of documents from the collection:\\n_id: ObjectId\\nfirstName: String\\nlastName: String\\nemailId: String\\npassword: String\\nphotoUrl: String\\nskills: Array\\ncreatedAt: Timestamp\\nupdatedAt: Timestamp\\n__v: Number\\n\\n/*\\n3 documents from users collection:\\n[\\n  {\\n    \"_id\": {\\n      \"$oid\": \"66f62472cbc847046e52a2c0\"\\n    },\\n    \"firstName\": \"Saurav\",\\n    \"lastName\": \"Singh\",\\n    \"emailId\": \"ss@gmail.com\",\\n    \"password\": \"$2b$10$l7eBmyvAp.rIpU\",\\n    \"photoUrl\": \"http://dummy.com\",\\n    \"skills\": [],\\n    \"createdAt\": {\\n      \"$date\": \"2024-09-27T03:20:18.509Z\"\\n    },\\n    \"updatedAt\": {\\n      \"$date\": \"2024-09-27T03:20:18.509Z\"\\n    },\\n    \"__v\": 0\\n  },\\n  {\\n    \"_id\": {\\n      \"$oid\": \"66eec283bf081b9c5cb8c96e\"\\n    },\\n    \"firstName\": \"Vibhor\",\\n    \"lastName\": \"J\",\\n    \"emailId\": \"vb@gmail.com\",\\n    \"password\": \"$2b$10$hMCB8xIJxKcr1y\",\\n    \"photoUrl\": \"http://dummy.com\",\\n    \"skills\": [],\\n    \"createdAt\": {\\n      \"$date\": \"2024-09-21T12:56:35.503Z\"\\n    },\\n    \"updatedAt\": {\\n      \"$date\": \"2024-09-26T03:18:45.028Z\"\\n    },\\n    \"__v\": 0\\n  },\\n  {\\n    \"_id\": {\\n      \"$oid\": \"66f62ba0051e3056ef55d9dc\"\\n    },\\n    \"firstName\": \"Shri\",\\n    \"lastName\": \"Nayak\",\\n    \"emailId\": \"sn@gmail.com\",\\n    \"password\": \"$2b$10$BfXiFyhOpA5QFb\",\\n    \"photoUrl\": \"http://dummy.com\",\\n    \"skills\": [],\\n    \"createdAt\": {\\n      \"$date\": \"2024-09-27T03:50:56.197Z\"\\n    },\\n    \"updatedAt\": {\\n      \"$date\": \"2024-09-27T03:50:56.197Z\"\\n    },\\n    \"__v\": 0\\n  }\\n]\\n*/', id='bfccd1f8-5938-4746-bbc5-5ab0fd1df21b', tool_call_id='call_pnxw'), AIMessage(content='', additional_kwargs={'tool_calls': [{'id': 'call_p8s7', 'function': {'arguments': '{\"query\":\"\\'db.users.aggregate([ { \\\\\"$match\\\\\": { \\\\\"firstName\\\\\": \\\\\"Rohan\\\\\", \\\\\"lastName\\\\\": \\\\\"Gore\\\\\" } } ])\\'\"}', 'name': 'query_to_database'}, 'type': 'function'}]}, response_metadata={'token_usage': {'completion_tokens': 60, 'prompt_tokens': 2977, 'total_tokens': 3037, 'completion_time': 0.05, 'prompt_time': 0.428537342, 'queue_time': 0.24056614800000004, 'total_time': 0.478537342}, 'model_name': 'llama3-8b-8192', 'system_fingerprint': 'fp_dadc9d6142', 'finish_reason': 'tool_calls', 'logprobs': None}, id='run-472d8b7b-9a86-44bf-87c8-92b6bffd8c2a-0', tool_calls=[{'name': 'query_to_database', 'args': {'query': '\\'db.users.aggregate([ { \"$match\": { \"firstName\": \"Rohan\", \"lastName\": \"Gore\" } } ])\\''}, 'id': 'call_p8s7', 'type': 'tool_call'}], usage_metadata={'input_tokens': 2977, 'output_tokens': 60, 'total_tokens': 3037}), ToolMessage(content='Error: The tool query_to_database is not valid. Please fix your mistakes. \\n                        Remember to only call SubmitFinalAnswer to submit the final answer. \\n                        Generated queries should be outputted WITHOUT a tool call.', id='908a7a20-3183-4d01-82e7-eddb92650ad4', tool_call_id='call_p8s7')]}\n",
      "Last message: content='Error: The tool query_to_database is not valid. Please fix your mistakes. \\n                        Remember to only call SubmitFinalAnswer to submit the final answer. \\n                        Generated queries should be outputted WITHOUT a tool call.' id='908a7a20-3183-4d01-82e7-eddb92650ad4' tool_call_id='call_p8s7'\n",
      "Last message is an error. regenrating the query.\n",
      "State from should_continue: {'messages': [HumanMessage(content='find the user name Rohan Gore from users collection?', additional_kwargs={}, response_metadata={}, id='2357e13c-09da-45b6-966c-b0593126eaf6'), AIMessage(content='', additional_kwargs={}, response_metadata={}, id='55793cc7-3cda-4797-a6fe-8ef83877f856', tool_calls=[{'name': 'mongodb_list_collections', 'args': {}, 'id': 'tool_call_id', 'type': 'tool_call'}]), ToolMessage(content='chats, connectionrequests, payments, test_collection, users', id='3afea25a-6872-4170-8a3f-d74ff128bfbc', tool_call_id='tool_call_id'), AIMessage(content='', additional_kwargs={'tool_calls': [{'id': 'call_pnxw', 'function': {'arguments': '{\"collection_names\":\"users\"}', 'name': 'mongodb_schema'}, 'type': 'function'}]}, response_metadata={'token_usage': {'completion_tokens': 34, 'prompt_tokens': 1058, 'total_tokens': 1092, 'completion_time': 0.028333333, 'prompt_time': 0.130941599, 'queue_time': 0.23633264900000003, 'total_time': 0.159274932}, 'model_name': 'llama3-8b-8192', 'system_fingerprint': 'fp_dadc9d6142', 'finish_reason': 'tool_calls', 'logprobs': None}, id='run-56b0bd2f-0b17-4d98-a295-60120eec5c72-0', tool_calls=[{'name': 'mongodb_schema', 'args': {'collection_names': 'users'}, 'id': 'call_pnxw', 'type': 'tool_call'}], usage_metadata={'input_tokens': 1058, 'output_tokens': 34, 'total_tokens': 1092}), ToolMessage(content='Database name: devTinder\\nCollection name: users\\nSchema from a sample of documents from the collection:\\n_id: ObjectId\\nfirstName: String\\nlastName: String\\nemailId: String\\npassword: String\\nphotoUrl: String\\nskills: Array\\ncreatedAt: Timestamp\\nupdatedAt: Timestamp\\n__v: Number\\n\\n/*\\n3 documents from users collection:\\n[\\n  {\\n    \"_id\": {\\n      \"$oid\": \"66f62472cbc847046e52a2c0\"\\n    },\\n    \"firstName\": \"Saurav\",\\n    \"lastName\": \"Singh\",\\n    \"emailId\": \"ss@gmail.com\",\\n    \"password\": \"$2b$10$l7eBmyvAp.rIpU\",\\n    \"photoUrl\": \"http://dummy.com\",\\n    \"skills\": [],\\n    \"createdAt\": {\\n      \"$date\": \"2024-09-27T03:20:18.509Z\"\\n    },\\n    \"updatedAt\": {\\n      \"$date\": \"2024-09-27T03:20:18.509Z\"\\n    },\\n    \"__v\": 0\\n  },\\n  {\\n    \"_id\": {\\n      \"$oid\": \"66eec283bf081b9c5cb8c96e\"\\n    },\\n    \"firstName\": \"Vibhor\",\\n    \"lastName\": \"J\",\\n    \"emailId\": \"vb@gmail.com\",\\n    \"password\": \"$2b$10$hMCB8xIJxKcr1y\",\\n    \"photoUrl\": \"http://dummy.com\",\\n    \"skills\": [],\\n    \"createdAt\": {\\n      \"$date\": \"2024-09-21T12:56:35.503Z\"\\n    },\\n    \"updatedAt\": {\\n      \"$date\": \"2024-09-26T03:18:45.028Z\"\\n    },\\n    \"__v\": 0\\n  },\\n  {\\n    \"_id\": {\\n      \"$oid\": \"66f62ba0051e3056ef55d9dc\"\\n    },\\n    \"firstName\": \"Shri\",\\n    \"lastName\": \"Nayak\",\\n    \"emailId\": \"sn@gmail.com\",\\n    \"password\": \"$2b$10$BfXiFyhOpA5QFb\",\\n    \"photoUrl\": \"http://dummy.com\",\\n    \"skills\": [],\\n    \"createdAt\": {\\n      \"$date\": \"2024-09-27T03:50:56.197Z\"\\n    },\\n    \"updatedAt\": {\\n      \"$date\": \"2024-09-27T03:50:56.197Z\"\\n    },\\n    \"__v\": 0\\n  }\\n]\\n*/', id='bfccd1f8-5938-4746-bbc5-5ab0fd1df21b', tool_call_id='call_pnxw'), AIMessage(content='', additional_kwargs={'tool_calls': [{'id': 'call_p8s7', 'function': {'arguments': '{\"query\":\"\\'db.users.aggregate([ { \\\\\"$match\\\\\": { \\\\\"firstName\\\\\": \\\\\"Rohan\\\\\", \\\\\"lastName\\\\\": \\\\\"Gore\\\\\" } } ])\\'\"}', 'name': 'query_to_database'}, 'type': 'function'}]}, response_metadata={'token_usage': {'completion_tokens': 60, 'prompt_tokens': 2977, 'total_tokens': 3037, 'completion_time': 0.05, 'prompt_time': 0.428537342, 'queue_time': 0.24056614800000004, 'total_time': 0.478537342}, 'model_name': 'llama3-8b-8192', 'system_fingerprint': 'fp_dadc9d6142', 'finish_reason': 'tool_calls', 'logprobs': None}, id='run-472d8b7b-9a86-44bf-87c8-92b6bffd8c2a-0', tool_calls=[{'name': 'query_to_database', 'args': {'query': '\\'db.users.aggregate([ { \"$match\": { \"firstName\": \"Rohan\", \"lastName\": \"Gore\" } } ])\\''}, 'id': 'call_p8s7', 'type': 'tool_call'}], usage_metadata={'input_tokens': 2977, 'output_tokens': 60, 'total_tokens': 3037}), ToolMessage(content='Error: The tool query_to_database is not valid. Please fix your mistakes. \\n                        Remember to only call SubmitFinalAnswer to submit the final answer. \\n                        Generated queries should be outputted WITHOUT a tool call.', id='908a7a20-3183-4d01-82e7-eddb92650ad4', tool_call_id='call_p8s7'), AIMessage(content='I apologize for the mistake. Based on the schema and sample documents provided, here is a revised query:\\n\\ndb.users.aggregate([ { \"$match\": { \"firstName\": \"Rohan\", \"lastName\": \"Gore\" } } ])\\n\\nPlease note that I did not include tools in the output as instructed. Instead, I provided the MongoDB query directly.', additional_kwargs={}, response_metadata={'token_usage': {'completion_tokens': 71, 'prompt_tokens': 3112, 'total_tokens': 3183, 'completion_time': 0.059166667, 'prompt_time': 0.385774706, 'queue_time': 0.241840958, 'total_time': 0.444941373}, 'model_name': 'llama3-8b-8192', 'system_fingerprint': 'fp_dadc9d6142', 'finish_reason': 'stop', 'logprobs': None}, id='run-835caf10-2319-4f00-b305-5ee1cc59163d-0', usage_metadata={'input_tokens': 3112, 'output_tokens': 71, 'total_tokens': 3183})]}\n",
      "Last message: content='I apologize for the mistake. Based on the schema and sample documents provided, here is a revised query:\\n\\ndb.users.aggregate([ { \"$match\": { \"firstName\": \"Rohan\", \"lastName\": \"Gore\" } } ])\\n\\nPlease note that I did not include tools in the output as instructed. Instead, I provided the MongoDB query directly.' additional_kwargs={} response_metadata={'token_usage': {'completion_tokens': 71, 'prompt_tokens': 3112, 'total_tokens': 3183, 'completion_time': 0.059166667, 'prompt_time': 0.385774706, 'queue_time': 0.241840958, 'total_time': 0.444941373}, 'model_name': 'llama3-8b-8192', 'system_fingerprint': 'fp_dadc9d6142', 'finish_reason': 'stop', 'logprobs': None} id='run-835caf10-2319-4f00-b305-5ee1cc59163d-0' usage_metadata={'input_tokens': 3112, 'output_tokens': 71, 'total_tokens': 3183}\n",
      "Last message is a normal message. Continuing the conversation.\n",
      "Checking the given query: {'messages': [HumanMessage(content='find the user name Rohan Gore from users collection?', additional_kwargs={}, response_metadata={}, id='2357e13c-09da-45b6-966c-b0593126eaf6'), AIMessage(content='', additional_kwargs={}, response_metadata={}, id='55793cc7-3cda-4797-a6fe-8ef83877f856', tool_calls=[{'name': 'mongodb_list_collections', 'args': {}, 'id': 'tool_call_id', 'type': 'tool_call'}]), ToolMessage(content='chats, connectionrequests, payments, test_collection, users', id='3afea25a-6872-4170-8a3f-d74ff128bfbc', tool_call_id='tool_call_id'), AIMessage(content='', additional_kwargs={'tool_calls': [{'id': 'call_pnxw', 'function': {'arguments': '{\"collection_names\":\"users\"}', 'name': 'mongodb_schema'}, 'type': 'function'}]}, response_metadata={'token_usage': {'completion_tokens': 34, 'prompt_tokens': 1058, 'total_tokens': 1092, 'completion_time': 0.028333333, 'prompt_time': 0.130941599, 'queue_time': 0.23633264900000003, 'total_time': 0.159274932}, 'model_name': 'llama3-8b-8192', 'system_fingerprint': 'fp_dadc9d6142', 'finish_reason': 'tool_calls', 'logprobs': None}, id='run-56b0bd2f-0b17-4d98-a295-60120eec5c72-0', tool_calls=[{'name': 'mongodb_schema', 'args': {'collection_names': 'users'}, 'id': 'call_pnxw', 'type': 'tool_call'}], usage_metadata={'input_tokens': 1058, 'output_tokens': 34, 'total_tokens': 1092}), ToolMessage(content='Database name: devTinder\\nCollection name: users\\nSchema from a sample of documents from the collection:\\n_id: ObjectId\\nfirstName: String\\nlastName: String\\nemailId: String\\npassword: String\\nphotoUrl: String\\nskills: Array\\ncreatedAt: Timestamp\\nupdatedAt: Timestamp\\n__v: Number\\n\\n/*\\n3 documents from users collection:\\n[\\n  {\\n    \"_id\": {\\n      \"$oid\": \"66f62472cbc847046e52a2c0\"\\n    },\\n    \"firstName\": \"Saurav\",\\n    \"lastName\": \"Singh\",\\n    \"emailId\": \"ss@gmail.com\",\\n    \"password\": \"$2b$10$l7eBmyvAp.rIpU\",\\n    \"photoUrl\": \"http://dummy.com\",\\n    \"skills\": [],\\n    \"createdAt\": {\\n      \"$date\": \"2024-09-27T03:20:18.509Z\"\\n    },\\n    \"updatedAt\": {\\n      \"$date\": \"2024-09-27T03:20:18.509Z\"\\n    },\\n    \"__v\": 0\\n  },\\n  {\\n    \"_id\": {\\n      \"$oid\": \"66eec283bf081b9c5cb8c96e\"\\n    },\\n    \"firstName\": \"Vibhor\",\\n    \"lastName\": \"J\",\\n    \"emailId\": \"vb@gmail.com\",\\n    \"password\": \"$2b$10$hMCB8xIJxKcr1y\",\\n    \"photoUrl\": \"http://dummy.com\",\\n    \"skills\": [],\\n    \"createdAt\": {\\n      \"$date\": \"2024-09-21T12:56:35.503Z\"\\n    },\\n    \"updatedAt\": {\\n      \"$date\": \"2024-09-26T03:18:45.028Z\"\\n    },\\n    \"__v\": 0\\n  },\\n  {\\n    \"_id\": {\\n      \"$oid\": \"66f62ba0051e3056ef55d9dc\"\\n    },\\n    \"firstName\": \"Shri\",\\n    \"lastName\": \"Nayak\",\\n    \"emailId\": \"sn@gmail.com\",\\n    \"password\": \"$2b$10$BfXiFyhOpA5QFb\",\\n    \"photoUrl\": \"http://dummy.com\",\\n    \"skills\": [],\\n    \"createdAt\": {\\n      \"$date\": \"2024-09-27T03:50:56.197Z\"\\n    },\\n    \"updatedAt\": {\\n      \"$date\": \"2024-09-27T03:50:56.197Z\"\\n    },\\n    \"__v\": 0\\n  }\\n]\\n*/', id='bfccd1f8-5938-4746-bbc5-5ab0fd1df21b', tool_call_id='call_pnxw'), AIMessage(content='', additional_kwargs={'tool_calls': [{'id': 'call_p8s7', 'function': {'arguments': '{\"query\":\"\\'db.users.aggregate([ { \\\\\"$match\\\\\": { \\\\\"firstName\\\\\": \\\\\"Rohan\\\\\", \\\\\"lastName\\\\\": \\\\\"Gore\\\\\" } } ])\\'\"}', 'name': 'query_to_database'}, 'type': 'function'}]}, response_metadata={'token_usage': {'completion_tokens': 60, 'prompt_tokens': 2977, 'total_tokens': 3037, 'completion_time': 0.05, 'prompt_time': 0.428537342, 'queue_time': 0.24056614800000004, 'total_time': 0.478537342}, 'model_name': 'llama3-8b-8192', 'system_fingerprint': 'fp_dadc9d6142', 'finish_reason': 'tool_calls', 'logprobs': None}, id='run-472d8b7b-9a86-44bf-87c8-92b6bffd8c2a-0', tool_calls=[{'name': 'query_to_database', 'args': {'query': '\\'db.users.aggregate([ { \"$match\": { \"firstName\": \"Rohan\", \"lastName\": \"Gore\" } } ])\\''}, 'id': 'call_p8s7', 'type': 'tool_call'}], usage_metadata={'input_tokens': 2977, 'output_tokens': 60, 'total_tokens': 3037}), ToolMessage(content='Error: The tool query_to_database is not valid. Please fix your mistakes. \\n                        Remember to only call SubmitFinalAnswer to submit the final answer. \\n                        Generated queries should be outputted WITHOUT a tool call.', id='908a7a20-3183-4d01-82e7-eddb92650ad4', tool_call_id='call_p8s7'), AIMessage(content='I apologize for the mistake. Based on the schema and sample documents provided, here is a revised query:\\n\\ndb.users.aggregate([ { \"$match\": { \"firstName\": \"Rohan\", \"lastName\": \"Gore\" } } ])\\n\\nPlease note that I did not include tools in the output as instructed. Instead, I provided the MongoDB query directly.', additional_kwargs={}, response_metadata={'token_usage': {'completion_tokens': 71, 'prompt_tokens': 3112, 'total_tokens': 3183, 'completion_time': 0.059166667, 'prompt_time': 0.385774706, 'queue_time': 0.241840958, 'total_time': 0.444941373}, 'model_name': 'llama3-8b-8192', 'system_fingerprint': 'fp_dadc9d6142', 'finish_reason': 'stop', 'logprobs': None}, id='run-835caf10-2319-4f00-b305-5ee1cc59163d-0', usage_metadata={'input_tokens': 3112, 'output_tokens': 71, 'total_tokens': 3183})]}\n"
     ]
    }
   ],
   "source": [
    "from langchain_core.messages import HumanMessage\n",
    "\n",
    "query = {\n",
    "    \"messages\": [\n",
    "        HumanMessage(content=\"find the user name Rohan Gore from users collection?\")\n",
    "    ]\n",
    "}\n",
    "\n",
    "response=app.invoke(query)\n",
    "\n",
    "response[\"messages\"][-1].tool_calls[0][\"args\"][\"final_answer\"]"
   ]
  }
 ],
 "metadata": {
  "kernelspec": {
   "display_name": "venv",
   "language": "python",
   "name": "python3"
  },
  "language_info": {
   "codemirror_mode": {
    "name": "ipython",
    "version": 3
   },
   "file_extension": ".py",
   "mimetype": "text/x-python",
   "name": "python",
   "nbconvert_exporter": "python",
   "pygments_lexer": "ipython3",
   "version": "3.13.2"
  }
 },
 "nbformat": 4,
 "nbformat_minor": 2
}
