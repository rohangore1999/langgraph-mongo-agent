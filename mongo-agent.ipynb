{
 "cells": [
  {
   "cell_type": "code",
   "execution_count": 13,
   "metadata": {},
   "outputs": [
    {
     "data": {
      "text/plain": [
       "True"
      ]
     },
     "execution_count": 13,
     "metadata": {},
     "output_type": "execute_result"
    }
   ],
   "source": [
    "import pymongo\n",
    "from pymongo import MongoClient\n",
    "from dotenv import load_dotenv\n",
    "import os\n",
    "\n",
    "load_dotenv()"
   ]
  },
  {
   "cell_type": "code",
   "execution_count": 14,
   "metadata": {},
   "outputs": [],
   "source": [
    "connection_string = os.getenv(\"DB_CONNECTION_SECRET\")"
   ]
  },
  {
   "cell_type": "code",
   "execution_count": 15,
   "metadata": {},
   "outputs": [],
   "source": [
    "client = MongoClient(\n",
    "        connection_string,\n",
    "        connectTimeoutMS=5000,  # 5 seconds\n",
    "        serverSelectionTimeoutMS=5000  # 5 seconds\n",
    "    )"
   ]
  },
  {
   "cell_type": "code",
   "execution_count": 16,
   "metadata": {},
   "outputs": [],
   "source": [
    "db = client.get_database(\"devTinder\")"
   ]
  },
  {
   "cell_type": "code",
   "execution_count": 22,
   "metadata": {},
   "outputs": [
    {
     "name": "stdout",
     "output_type": "stream",
     "text": [
      "Available tools:\n",
      "mongodb_query\n",
      "mongodb_schema\n",
      "mongodb_list_collections\n",
      "mongodb_query_checker\n"
     ]
    }
   ],
   "source": [
    "from langchain_mongodb.agent_toolkit import MongoDBDatabase, MongoDBDatabaseToolkit\n",
    "from langchain_groq import ChatGroq\n",
    "\n",
    "# Set up the MongoDB database\n",
    "db = MongoDBDatabase.from_connection_string(\n",
    "    os.getenv(\"DB_CONNECTION_SECRET\"),\n",
    "    database=\"devTinder\"\n",
    ")\n",
    "\n",
    "llm = ChatGroq(model=\"llama3-8b-8192\", api_key=os.getenv(\"GROQ_API_KEY\"))\n",
    "\n",
    "# Create the toolkit with the database\n",
    "toolkit = MongoDBDatabaseToolkit(db=db, llm=llm)\n",
    "\n",
    "# Get the tools from the toolkit\n",
    "tools = toolkit.get_tools()\n",
    "\n",
    "print(\"Available tools:\")\n",
    "for tool in tools:\n",
    "    print(tool.name)"
   ]
  },
  {
   "cell_type": "code",
   "execution_count": 34,
   "metadata": {},
   "outputs": [
    {
     "data": {
      "text/plain": [
       "['chats', 'connectionrequests', 'payments', 'test_collection', 'users']"
      ]
     },
     "execution_count": 34,
     "metadata": {},
     "output_type": "execute_result"
    }
   ],
   "source": [
    "db.get_usable_collection_names()"
   ]
  },
  {
   "cell_type": "code",
   "execution_count": 35,
   "metadata": {},
   "outputs": [
    {
     "data": {
      "text/plain": [
       "AIMessage(content=\"I'm just a language model, I don't have feelings or emotions like humans do, but I'm functioning properly and ready to assist you with any questions or tasks you may have! It's great to chat with you. How can I help you today?\", additional_kwargs={}, response_metadata={'token_usage': {'completion_tokens': 53, 'prompt_tokens': 16, 'total_tokens': 69, 'completion_time': 0.044166667, 'prompt_time': 0.002382462, 'queue_time': 0.233015747, 'total_time': 0.046549129}, 'model_name': 'llama3-8b-8192', 'system_fingerprint': 'fp_179b0f92c9', 'finish_reason': 'stop', 'logprobs': None}, id='run-820baea0-1416-474d-9648-f4d93bcc623e-0', usage_metadata={'input_tokens': 16, 'output_tokens': 53, 'total_tokens': 69})"
      ]
     },
     "execution_count": 35,
     "metadata": {},
     "output_type": "execute_result"
    }
   ],
   "source": [
    "llm.invoke(\"Hello, how are you?\")"
   ]
  },
  {
   "cell_type": "code",
   "execution_count": 36,
   "metadata": {},
   "outputs": [],
   "source": [
    "for tool in tools:\n",
    "    # Check if the tool's name is \"mongodb_list_collections\"\n",
    "    if tool.name == \"mongodb_list_collections\":\n",
    "        list_collections_tool = tool\n",
    "        break"
   ]
  },
  {
   "cell_type": "code",
   "execution_count": 37,
   "metadata": {},
   "outputs": [],
   "source": [
    "for tool in tools:\n",
    "    # Check if the tool's name is \"mongodb_schema\"\n",
    "    if tool.name == \"mongodb_schema\":\n",
    "        # If found, assign it to get_schema_tool\n",
    "        get_schema_tool = tool\n",
    "        break "
   ]
  },
  {
   "cell_type": "code",
   "execution_count": 38,
   "metadata": {},
   "outputs": [
    {
     "data": {
      "text/plain": [
       "RunnableBinding(bound=ChatGroq(client=<groq.resources.chat.completions.Completions object at 0x1213d4cd0>, async_client=<groq.resources.chat.completions.AsyncCompletions object at 0x1213d6e90>, model_name='llama3-8b-8192', model_kwargs={}, groq_api_key=SecretStr('**********')), kwargs={'tools': [{'type': 'function', 'function': {'name': 'mongodb_schema', 'description': 'Input to this tool is a comma-separated list of collections, output is the schema and sample rows for those collections. Be sure that the collectionss actually exist by calling mongodb_list_collections first! Example Input: collection1, collection2, collection3', 'parameters': {'properties': {'collection_names': {'description': \"A comma-separated list of the collection names for which to return the schema. Example input: 'collection1, collection2, collection3'\", 'type': 'string'}}, 'required': ['collection_names'], 'type': 'object'}}}]}, config={}, config_factories=[])"
      ]
     },
     "execution_count": 38,
     "metadata": {},
     "output_type": "execute_result"
    }
   ],
   "source": [
    "llm_to_get_schema=llm.bind_tools([get_schema_tool])\n",
    "llm_to_get_schema"
   ]
  },
  {
   "cell_type": "code",
   "execution_count": 100,
   "metadata": {},
   "outputs": [],
   "source": [
    "from langchain.tools import tool\n",
    "\n",
    "# The @tool Decorator: This marks the function as a LangChain tool, making it available for use by a language model agent. \n",
    "# Tools in LangChain are functions that agents can call to perform specific tasks.\n",
    "# Mentioning the prompt inside as in Mongodb (https://langchain-mongodb.readthedocs.io/en/latest/langchain_mongodb/agent_toolkit/langchain_mongodb.agent_toolkit.database.MongoDBDatabase.html#langchain_mongodb.agent_toolkit.database.MongoDBDatabase.run_no_throw) only uses aggregation queries.\n",
    "\n",
    "@tool\n",
    "def query_to_database(query: str) -> str:\n",
    "    \"\"\"\n",
    "        Execute a MongoDB **aggregation query string** against the database and return the result.\n",
    "        The query string MUST be in the MongoDB shell format: 'db.collectionName.aggregate([pipeline])'.\n",
    "        \n",
    "        DONT USE other aggregation queries like find, findOne, etc.\n",
    "        \n",
    "        Example query: \n",
    "        \n",
    "        **IMPORTANT TOOL USAGE RULES:**\n",
    "        1.  The `query_to_database` tool ONLY accepts MongoDB **aggregation query strings**.\n",
    "        2.  The query string MUST strictly follow the format: `'db.collectionName.aggregate([pipeline])'`.\n",
    "        3.  Use the correct collection name (e.g., `users`, `payments`).\n",
    "        4.  Use the correct field names based on the known schema (e.g., `firstName`, `lastName`, `emailId`, `createdAt`). Do NOT guess field names like `first_name`.\n",
    "        5.  Use `$match` within the pipeline for filtering documents (like a WHERE clause).\n",
    "        6.  Use `$project` to select specific fields.\n",
    "        7.  Use `$count` to count documents.\n",
    "        8.  Use `$limit` and `$sort` for those specific operations.\n",
    "        9.  Do NOT attempt to use other commands like `find`, `findOne`, `countDocuments` directly in the query string.\n",
    "\n",
    "        **QUERY EXAMPLES:**\n",
    "\n",
    "        **1. Show all documents in a collection (e.g., `users`):**\n",
    "        *User Request:* \"Show all users\", \"List all users\"\n",
    "        *Tool Query:* `'db.users.aggregate([ { \"$match\": {} } ])'`\n",
    "\n",
    "        **2. Show documents matching specific criteria (e.g., users with `firstName` \"Rohan\"):**\n",
    "        *User Request:* \"Find users named Rohan\", \"Get user Rohan's details\"\n",
    "        *Tool Query:* `'db.users.aggregate([ { \"$match\": { \"firstName\": \"Rohan\" } } ])'`\n",
    "\n",
    "        **3. Show documents matching multiple criteria (e.g., users with `firstName` \"Rohan\" AND `lastName` \"Gore\"):**\n",
    "        *User Request:* \"Find user Rohan Gore\"\n",
    "        *Tool Query:* `'db.users.aggregate([ { \"$match\": { \"firstName\": \"Rohan\", \"lastName\": \"Gore\" } } ])'`\n",
    "        *(Alternative using $and):* `'db.users.aggregate([ { \"$match\": { \"$and\": [ { \"firstName\": \"Rohan\" }, { \"lastName\": \"Gore\" } ] } } ])'`\n",
    "\n",
    "        **4. Show specific fields for matching documents (e.g., `firstName` and `emailId` for user \"Rohan\"):**\n",
    "        *User Request:* \"Show Rohan's first name and email\"\n",
    "        *Tool Query:* `'db.users.aggregate([ { \"$match\": { \"firstName\": \"Rohan\" } }, { \"$project\": { \"firstName\": 1, \"emailId\": 1, \"_id\": 0 } } ])'`\n",
    "\n",
    "        **5. Count documents matching criteria (e.g., count users named \"Rohan\"):**\n",
    "        *User Request:* \"How many users are named Rohan?\"\n",
    "        *Tool Query:* `'db.users.aggregate([ { \"$match\": { \"firstName\": \"Rohan\" } }, { \"$count\": \"matching_users_count\" } ])'`\n",
    "\n",
    "        **6. Limit the number of results (e.g., show the first 5 users):**\n",
    "        *User Request:* \"Show 5 users\"\n",
    "        *Tool Query:* `'db.users.aggregate([ { \"$match\": {} }, { \"$limit\": 5 } ])'`\n",
    "\n",
    "        **7. Sort results (e.g., show users sorted by `createdAt` descending):**\n",
    "        *User Request:* \"Show users sorted by creation date, newest first\"\n",
    "        *Tool Query:* `'db.users.aggregate([ { \"$match\": {} }, { \"$sort\": { \"createdAt\": -1 } } ])'`\n",
    "\n",
    "        **8. Combine operations (e.g., show `emailId` of the 5 newest users named \"Rohan\"):**\n",
    "        *User Request:* \"Show the email addresses of the 5 most recent users named Rohan\"\n",
    "        *Tool Query:* `'db.users.aggregate([ { \"$match\": { \"firstName\": \"Rohan\" } }, { \"$sort\": { \"createdAt\": -1 } }, { \"$limit\": 5 }, { \"$project\": { \"emailId\": 1, \"_id\": 0 } } ])'`\n",
    "\n",
    "        Remember to always construct the query string in the exact `db.collectionName.aggregate([pipeline])` format for the `query_to_database` tool. Use the collection schema information (like field names `firstName`, `emailId`) when formulating the pipeline stages.\n",
    "\"\"\"\n",
    "    \n",
    "    # runs the query and if it is invalid or returns no result, gracefully handles it will return an error message.\n",
    "    result = db.run_no_throw(query) \n",
    "    \n",
    "    \n",
    "    if not result:\n",
    "        return \"No result returned from the query. Please try again.\"\n",
    "    return result"
   ]
  },
  {
   "cell_type": "code",
   "execution_count": 101,
   "metadata": {},
   "outputs": [
    {
     "data": {
      "text/plain": [
       "'Database name: devTinder\\nCollection name: users\\nSchema from a sample of documents from the collection:\\n_id: ObjectId\\nfirstName: String\\nlastName: String\\nemailId: String\\npassword: String\\nphotoUrl: String\\nskills: Array\\ncreatedAt: Timestamp\\nupdatedAt: Timestamp\\n__v: Number\\n\\n/*\\n3 documents from users collection:\\n[\\n  {\\n    \"_id\": {\\n      \"$oid\": \"66ece21ff3406ae729fafc0c\"\\n    },\\n    \"firstName\": \"Rohan\",\\n    \"lastName\": \"Gore\",\\n    \"emailId\": \"rg@gmail.com\",\\n    \"password\": \"$2b$10$ptCy5NAP59AF5t\",\\n    \"photoUrl\": \"http://dummy.com\",\\n    \"skills\": [],\\n    \"createdAt\": {\\n      \"$date\": \"2024-09-20T02:46:55.558Z\"\\n    },\\n    \"updatedAt\": {\\n      \"$date\": \"2024-09-20T02:46:55.558Z\"\\n    },\\n    \"__v\": 0\\n  },\\n  {\\n    \"_id\": {\\n      \"$oid\": \"66eec283bf081b9c5cb8c96e\"\\n    },\\n    \"firstName\": \"Vibhor\",\\n    \"lastName\": \"J\",\\n    \"emailId\": \"vb@gmail.com\",\\n    \"password\": \"$2b$10$hMCB8xIJxKcr1y\",\\n    \"photoUrl\": \"http://dummy.com\",\\n    \"skills\": [],\\n    \"createdAt\": {\\n      \"$date\": \"2024-09-21T12:56:35.503Z\"\\n    },\\n    \"updatedAt\": {\\n      \"$date\": \"2024-09-26T03:18:45.028Z\"\\n    },\\n    \"__v\": 0\\n  },\\n  {\\n    \"_id\": {\\n      \"$oid\": \"66f0e4794fad30bd74decb15\"\\n    },\\n    \"firstName\": \"Shirish\",\\n    \"lastName\": \"Kisley\",\\n    \"emailId\": \"sk@gmail.com\",\\n    \"password\": \"$2b$10$XxfzXLTnukRQg.\",\\n    \"photoUrl\": \"http://dummy.com\",\\n    \"skills\": [],\\n    \"createdAt\": {\\n      \"$date\": \"2024-09-23T03:46:01.511Z\"\\n    },\\n    \"updatedAt\": {\\n      \"$date\": \"2024-09-23T03:46:01.511Z\"\\n    },\\n    \"__v\": 0\\n  }\\n]\\n*/'"
      ]
     },
     "execution_count": 101,
     "metadata": {},
     "output_type": "execute_result"
    }
   ],
   "source": [
    "db.get_collection_info([\"users\"])"
   ]
  },
  {
   "cell_type": "code",
   "execution_count": 102,
   "metadata": {},
   "outputs": [
    {
     "data": {
      "text/plain": [
       "'[\\n  {\\n    \"_id\": {\\n      \"$oid\": \"67ce3b18d583a646a05cb04f\"\\n    },\\n    \"firstName\": \"Sahil\",\\n    \"lastName\": \"Bhoir\",\\n    \"emailId\": \"sb@gmail.com\",\\n    \"password\": \"$2b$10$HagDQ/B00ra/BpR8tXTSy.ANQMuhsTSaPkwwz4UBn2TYpvXKGub2q\",\\n    \"photoUrl\": \"http://dummy.com\",\\n    \"skills\": [],\\n    \"createdAt\": {\\n      \"$date\": \"2025-03-10T01:06:32.236Z\"\\n    },\\n    \"updatedAt\": {\\n      \"$date\": \"2025-03-12T01:59:29.740Z\"\\n    },\\n    \"__v\": 0,\\n    \"isPayment\": true\\n  }\\n]'"
      ]
     },
     "execution_count": 102,
     "metadata": {},
     "output_type": "execute_result"
    }
   ],
   "source": [
    "# Example of using the tool\n",
    "query_to_database.invoke('db.users.aggregate([ { \"$match\": { \"firstName\": \"Sahil\" } } ])')"
   ]
  },
  {
   "cell_type": "code",
   "execution_count": 103,
   "metadata": {},
   "outputs": [
    {
     "data": {
      "text/plain": [
       "'[\\n  {\\n    \"_id\": {\\n      \"$oid\": \"66ece21ff3406ae729fafc0c\"\\n    },\\n    \"firstName\": \"Rohan\",\\n    \"lastName\": \"Gore\",\\n    \"emailId\": \"rg@gmail.com\",\\n    \"password\": \"$2b$10$ptCy5NAP59AF5txOtIutV.CmoIZoqh1TK1kAaEWpIQjQSjlTwhdgi\",\\n    \"photoUrl\": \"http://dummy.com\",\\n    \"skills\": [],\\n    \"createdAt\": {\\n      \"$date\": \"2024-09-20T02:46:55.558Z\"\\n    },\\n    \"updatedAt\": {\\n      \"$date\": \"2024-09-20T02:46:55.558Z\"\\n    },\\n    \"__v\": 0\\n  },\\n  {\\n    \"_id\": {\\n      \"$oid\": \"66eec283bf081b9c5cb8c96e\"\\n    },\\n    \"firstName\": \"Vibhor\",\\n    \"lastName\": \"J\",\\n    \"emailId\": \"vb@gmail.com\",\\n    \"password\": \"$2b$10$hMCB8xIJxKcr1y5Ho9s94.jSm2/TMNZRWK0ojct5hVigojFJ7hLb.\",\\n    \"photoUrl\": \"http://dummy.com\",\\n    \"skills\": [],\\n    \"createdAt\": {\\n      \"$date\": \"2024-09-21T12:56:35.503Z\"\\n    },\\n    \"updatedAt\": {\\n      \"$date\": \"2024-09-26T03:18:45.028Z\"\\n    },\\n    \"__v\": 0\\n  },\\n  {\\n    \"_id\": {\\n      \"$oid\": \"66f0e4794fad30bd74decb15\"\\n    },\\n    \"firstName\": \"Shirish\",\\n    \"lastName\": \"Kisley\",\\n    \"emailId\": \"sk@gmail.com\",\\n    \"password\": \"$2b$10$XxfzXLTnukRQg.qoIVDdF.1nYwnCW6aNJZRLh/ljVOcKsWGIKA476\",\\n    \"photoUrl\": \"http://dummy.com\",\\n    \"skills\": [],\\n    \"createdAt\": {\\n      \"$date\": \"2024-09-23T03:46:01.511Z\"\\n    },\\n    \"updatedAt\": {\\n      \"$date\": \"2024-09-23T03:46:01.511Z\"\\n    },\\n    \"__v\": 0\\n  },\\n  {\\n    \"_id\": {\\n      \"$oid\": \"66f62472cbc847046e52a2c0\"\\n    },\\n    \"firstName\": \"Saurav\",\\n    \"lastName\": \"Singh\",\\n    \"emailId\": \"ss@gmail.com\",\\n    \"password\": \"$2b$10$l7eBmyvAp.rIpUoF/hEmc.n9f5psy4MhjCzjGvhhuIm39.EwdbcxG\",\\n    \"photoUrl\": \"http://dummy.com\",\\n    \"skills\": [],\\n    \"createdAt\": {\\n      \"$date\": \"2024-09-27T03:20:18.509Z\"\\n    },\\n    \"updatedAt\": {\\n      \"$date\": \"2024-09-27T03:20:18.509Z\"\\n    },\\n    \"__v\": 0\\n  },\\n  {\\n    \"_id\": {\\n      \"$oid\": \"66f62ba0051e3056ef55d9dc\"\\n    },\\n    \"firstName\": \"Shri\",\\n    \"lastName\": \"Nayak\",\\n    \"emailId\": \"sn@gmail.com\",\\n    \"password\": \"$2b$10$BfXiFyhOpA5QFbtVfYE.9e15U8ZJP2AartmBBgIz12a.0j0tN7WUe\",\\n    \"photoUrl\": \"http://dummy.com\",\\n    \"skills\": [],\\n    \"createdAt\": {\\n      \"$date\": \"2024-09-27T03:50:56.197Z\"\\n    },\\n    \"updatedAt\": {\\n      \"$date\": \"2024-09-27T03:50:56.197Z\"\\n    },\\n    \"__v\": 0\\n  },\\n  {\\n    \"_id\": {\\n      \"$oid\": \"67ce3b18d583a646a05cb04f\"\\n    },\\n    \"firstName\": \"Sahil\",\\n    \"lastName\": \"Bhoir\",\\n    \"emailId\": \"sb@gmail.com\",\\n    \"password\": \"$2b$10$HagDQ/B00ra/BpR8tXTSy.ANQMuhsTSaPkwwz4UBn2TYpvXKGub2q\",\\n    \"photoUrl\": \"http://dummy.com\",\\n    \"skills\": [],\\n    \"createdAt\": {\\n      \"$date\": \"2025-03-10T01:06:32.236Z\"\\n    },\\n    \"updatedAt\": {\\n      \"$date\": \"2025-03-12T01:59:29.740Z\"\\n    },\\n    \"__v\": 0,\\n    \"isPayment\": true\\n  }\\n]'"
      ]
     },
     "execution_count": 103,
     "metadata": {},
     "output_type": "execute_result"
    }
   ],
   "source": [
    "query_to_database.invoke('db.users.aggregate([ { \"$match\": { } } ])')"
   ]
  },
  {
   "cell_type": "code",
   "execution_count": 104,
   "metadata": {},
   "outputs": [
    {
     "data": {
      "text/plain": [
       "AIMessage(content='', additional_kwargs={'tool_calls': [{'id': 'call_kgab', 'function': {'arguments': '{\"query\":\"\\'db.users.aggregate([ { \\\\\"$match\\\\\": {} } ])\\'\"}', 'name': 'query_to_database'}, 'type': 'function'}]}, response_metadata={'token_usage': {'completion_tokens': 84, 'prompt_tokens': 1899, 'total_tokens': 1983, 'completion_time': 0.07, 'prompt_time': 0.246602884, 'queue_time': 0.238713853, 'total_time': 0.316602884}, 'model_name': 'llama3-8b-8192', 'system_fingerprint': 'fp_dadc9d6142', 'finish_reason': 'tool_calls', 'logprobs': None}, id='run-6a95f949-2f65-4320-bd71-c28b22382c88-0', tool_calls=[{'name': 'query_to_database', 'args': {'query': '\\'db.users.aggregate([ { \"$match\": {} } ])\\''}, 'id': 'call_kgab', 'type': 'tool_call'}], usage_metadata={'input_tokens': 1899, 'output_tokens': 84, 'total_tokens': 1983})"
      ]
     },
     "execution_count": 104,
     "metadata": {},
     "output_type": "execute_result"
    }
   ],
   "source": [
    "## Tool binding\n",
    "\"\"\"\n",
    "First, it binds the query_to_database tool to the language model (LLM).\n",
    "This essentially gives the LLM access to the database query functionality.\n",
    "\"\"\"\n",
    "llm_with_tools = llm.bind_tools([query_to_database])\n",
    "\n",
    "# Now, when the LLM is asked to show all employees, it can use the query_to_database tool to execute the query.\n",
    "llm_with_tools.invoke(\"show all users\") # it executes \"select * from employees;\"\n"
   ]
  },
  {
   "cell_type": "code",
   "execution_count": null,
   "metadata": {},
   "outputs": [],
   "source": []
  }
 ],
 "metadata": {
  "kernelspec": {
   "display_name": "venv",
   "language": "python",
   "name": "python3"
  },
  "language_info": {
   "codemirror_mode": {
    "name": "ipython",
    "version": 3
   },
   "file_extension": ".py",
   "mimetype": "text/x-python",
   "name": "python",
   "nbconvert_exporter": "python",
   "pygments_lexer": "ipython3",
   "version": "3.13.2"
  }
 },
 "nbformat": 4,
 "nbformat_minor": 2
}
